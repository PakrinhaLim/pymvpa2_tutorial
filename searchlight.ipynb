{
 "metadata": {
  "name": "",
  "signature": "sha256:eb82e7e01ee3df5af868a28e49704c6b41c7d27f0b21978296bd4cb46c8df462"
 },
 "nbformat": 3,
 "nbformat_minor": 0,
 "worksheets": [
  {
   "cells": [
    {
     "cell_type": "heading",
     "level": 1,
     "metadata": {},
     "source": [
      "Searchlight on fMRI data"
     ]
    },
    {
     "cell_type": "markdown",
     "metadata": {},
     "source": [
      "\n",
      "\n",
      "The original idea of a spatial searchlight algorithm stems from a paper by\n",
      "*Kriegeskorte et al. (2006)*, and has subsequently been used in a\n",
      "number of studies. The most common use for a searchlight is to compute a full\n",
      "cross-validation analysis in each spherical region of interest (ROI) in the\n",
      "brain. This analysis yields a map of (typically) classification accuracies that\n",
      "are often interpreted or post-processed similar to a GLM statistics output map\n",
      "(e.g. subsequent analysis with inferential statistics). In this example we look\n",
      "at how this type of analysis can be conducted in PyMVPA.\n",
      "\n",
      "As always, we first have to import PyMVPA."
     ]
    },
    {
     "cell_type": "code",
     "collapsed": false,
     "input": [
      "from mvpa2.suite import *"
     ],
     "language": "python",
     "metadata": {},
     "outputs": [],
     "prompt_number": 2
    },
    {
     "cell_type": "markdown",
     "metadata": {},
     "source": [
      "\n",
      "\n",
      "As searchlight analyses are usually quite expensive in terms of computational\n",
      "resources, we are going to enable some progress output to entertain us while\n",
      "we are waiting."
     ]
    },
    {
     "cell_type": "code",
     "collapsed": false,
     "input": [
      "# enable debug output for searchlight call\n",
      "if __debug__:\n",
      "    debug.active += [\"SLC\"]"
     ],
     "language": "python",
     "metadata": {},
     "outputs": [],
     "prompt_number": 3
    },
    {
     "cell_type": "markdown",
     "metadata": {},
     "source": [
      "\n",
      "\n",
      "The next few calls load an fMRI dataset, while assigning associated class\n",
      "targets and chunks (experiment runs) to each volume in the 4D timeseries.  One\n",
      "aspect is worth mentioning. When loading the fMRI data with\n",
      "[fmri_dataset()](http://pymvpa.org/generated/mvpa2.datasets.mri.fmri_dataset.html#mvpa2-datasets-mri-fmri-dataset) additional feature attributes can be\n",
      "added, by providing a dictionary with names and source pairs to the `add_fa`\n",
      "arguments. In this case we are loading a thresholded zstat-map of a category\n",
      "selectivity contrast for voxels ventral temporal cortex."
     ]
    },
    {
     "cell_type": "code",
     "collapsed": false,
     "input": [
      "# data path\n",
      "datapath = os.path.join(mvpa2.cfg.get('location', 'tutorial data'), 'haxby2001')\n",
      "dataset = load_tutorial_data(\n",
      "        roi='brain',\n",
      "        add_fa={'vt_thr_glm': os.path.join(datapath, 'sub001', 'masks',\n",
      "                                                     'orig', 'vt.nii.gz')})"
     ],
     "language": "python",
     "metadata": {},
     "outputs": [
      {
       "output_type": "stream",
       "stream": "stdout",
       "text": [
        "WARNING: Detected incorrect (nan) scl_ fields. Resetting to scl_slope=1.0 and scl_inter=0.0\n",
        " * Please note: warnings are printed only once, but underlying problem might occur many times *\n"
       ]
      }
     ],
     "prompt_number": 4
    },
    {
     "cell_type": "markdown",
     "metadata": {},
     "source": [
      "\n",
      "\n",
      "The dataset is now loaded and contains all brain voxels as features, and all\n",
      "volumes as samples. To precondition this data for the intended analysis we have\n",
      "to perform a few preprocessing steps (please note that the data was already\n",
      "motion-corrected). The first step is a chunk-wise (run-wise) removal of linear\n",
      "trends, typically caused by the acquisition equipment."
     ]
    },
    {
     "cell_type": "code",
     "collapsed": false,
     "input": [
      "poly_detrend(dataset, polyord=1, chunks_attr='chunks')"
     ],
     "language": "python",
     "metadata": {},
     "outputs": [],
     "prompt_number": 5
    },
    {
     "cell_type": "markdown",
     "metadata": {},
     "source": [
      "\n",
      "\n",
      "Now that the detrending is done, we can remove parts of the timeseries we\n",
      "are not interested in. For this example we are only considering volumes acquired\n",
      "during a stimulation block with images of houses and scrambled pictures, as well\n",
      "as rest periods (for now). It is important to perform the detrending before\n",
      "this selection, as otherwise the equal spacing of fMRI volumes is no longer\n",
      "guaranteed."
     ]
    },
    {
     "cell_type": "code",
     "collapsed": false,
     "input": [
      "dataset = dataset[np.array([l in ['rest', 'house', 'scrambledpix']\n",
      "                           for l in dataset.targets], dtype='bool')]"
     ],
     "language": "python",
     "metadata": {},
     "outputs": [],
     "prompt_number": 6
    },
    {
     "cell_type": "markdown",
     "metadata": {},
     "source": [
      "\n",
      "\n",
      "The final preprocessing step is data-normalization. This is a required step\n",
      "for many classification algorithms. It scales all features (voxels)\n",
      "into approximately the same range and removes the mean. In this example, we\n",
      "perform a chunk-wise normalization and compute standard deviation and mean for\n",
      "z-scoring based on the volumes corresponding to rest periods in the experiment.\n",
      "The resulting features could be interpreted as being voxel salience relative\n",
      "to 'rest'."
     ]
    },
    {
     "cell_type": "code",
     "collapsed": false,
     "input": [
      "zscore(dataset, chunks_attr='chunks', param_est=('targets', ['rest']), dtype='float32')"
     ],
     "language": "python",
     "metadata": {},
     "outputs": [],
     "prompt_number": 7
    },
    {
     "cell_type": "markdown",
     "metadata": {},
     "source": [
      "\n",
      "\n",
      "After normalization is completed, we no longer need the 'rest'-samples and\n",
      "remove them."
     ]
    },
    {
     "cell_type": "code",
     "collapsed": false,
     "input": [
      "dataset = dataset[dataset.sa.targets != 'rest']"
     ],
     "language": "python",
     "metadata": {},
     "outputs": [],
     "prompt_number": 8
    },
    {
     "cell_type": "markdown",
     "metadata": {},
     "source": [
      "\n",
      "\n",
      "But now for the interesting part: Next we define the measure that shall be\n",
      "computed for each sphere. Theoretically, this can be anything, but here we\n",
      "choose to compute a full leave-one-out cross-validation using a linear Nu-SVM\n",
      "classifier."
     ]
    },
    {
     "cell_type": "code",
     "collapsed": false,
     "input": [
      "# choose classifier\n",
      "clf = LinearNuSVMC()\n",
      "\n",
      "# setup measure to be computed by Searchlight\n",
      "# cross-validated mean transfer using an N-fold dataset splitter\n",
      "cv = CrossValidation(clf, NFoldPartitioner())"
     ],
     "language": "python",
     "metadata": {},
     "outputs": [],
     "prompt_number": 9
    },
    {
     "cell_type": "markdown",
     "metadata": {},
     "source": [
      "\n",
      "\n",
      "In this example, we do not want to compute full-brain accuracy maps, but\n",
      "instead limit ourselves to a specific subset of voxels. We'll select all voxel\n",
      "that have a non-zero z-stats value in the localizer mask we loaded above, as\n",
      "center coordinates for a searchlight sphere. These spheres will still include\n",
      "voxels that did not pass the threshold. the localizer merely define the\n",
      "location of all to be processed spheres."
     ]
    },
    {
     "cell_type": "code",
     "collapsed": false,
     "input": [
      "# get ids of features that have a nonzero value\n",
      "center_ids = dataset.fa.vt_thr_glm.nonzero()[0]"
     ],
     "language": "python",
     "metadata": {},
     "outputs": [],
     "prompt_number": 10
    },
    {
     "cell_type": "markdown",
     "metadata": {},
     "source": [
      "\n",
      "\n",
      "Finally, we can run the searchlight. We'll perform the analysis for three\n",
      "different radii, each time computing an error for each sphere. To achieve this,\n",
      "we simply use the [sphere_searchlight()](http://pymvpa.org/generated/mvpa2.measures.searchlight.sphere_searchlight.html#mvpa2-measures-searchlight-sphere-searchlight) class,\n",
      "which takes any [processing object](http://pymvpa.org/glossary.html#term-processing-object) and a radius as arguments. The\n",
      "[processing object](http://pymvpa.org/glossary.html#term-processing-object) has to compute the intended measure, when called with\n",
      "a dataset. The [sphere_searchlight()](http://pymvpa.org/generated/mvpa2.measures.searchlight.sphere_searchlight.html#mvpa2-measures-searchlight-sphere-searchlight) object\n",
      "will do nothing more than generate small datasets for each sphere, feeding them\n",
      "to the processing object, and storing the result."
     ]
    },
    {
     "cell_type": "code",
     "collapsed": false,
     "input": [
      "# setup plotting parameters (not essential for the analysis itself)\n",
      "plot_args = {\n",
      "    'background' : os.path.join(datapath, 'sub001', 'anatomy', 'highres001.nii.gz'),\n",
      "    'background_mask' : os.path.join(datapath, 'sub001', 'masks', 'orig', 'brain.nii.gz'),\n",
      "    'overlay_mask' : os.path.join(datapath, 'sub001', 'masks', 'orig', 'vt.nii.gz'),\n",
      "    'do_stretch_colors' : False,\n",
      "    'cmap_bg' : 'gray',\n",
      "    'cmap_overlay' : 'autumn', # YlOrRd_r # pl.cm.autumn\n",
      "    'interactive' : cfg.getboolean('examples', 'interactive', True),\n",
      "    }\n",
      "\n",
      "for radius in [0, 1, 3]:\n",
      "    # tell which one we are doing\n",
      "    print \"Running searchlight with radius: %i ...\" % (radius)"
     ],
     "language": "python",
     "metadata": {},
     "outputs": [
      {
       "output_type": "stream",
       "stream": "stdout",
       "text": [
        "Running searchlight with radius: 0 ...\n",
        "Running searchlight with radius: 1 ...\n",
        "Running searchlight with radius: 3 ...\n"
       ]
      }
     ],
     "prompt_number": 11
    },
    {
     "cell_type": "markdown",
     "metadata": {},
     "source": [
      "\n",
      "\n",
      "Here we actually setup the spherical searchlight by configuring the\n",
      "radius, and our selection of sphere center coordinates. Moreover, via the\n",
      "`space` argument we can instruct the searchlight which feature attribute\n",
      "shall be used to determine the voxel neighborhood. By default,\n",
      "[fmri_dataset()](http://pymvpa.org/generated/mvpa2.datasets.mri.fmri_dataset.html#mvpa2-datasets-mri-fmri-dataset) creates a corresponding attribute\n",
      "called `voxel_indices`.  Using the `mapper` argument it is possible to\n",
      "post-process the results computed for each sphere. Cross-validation will\n",
      "compute an error value per each fold, but here we are only interested in\n",
      "the mean error across all folds. Finally, on multi-core machines `nproc`\n",
      "can be used to enabled parallelization by setting it to the number of\n",
      "processes utilized by the searchlight (default value of `nproc`=`None` utilizes\n",
      "all available local cores)."
     ]
    },
    {
     "cell_type": "code",
     "collapsed": false,
     "input": [
      "sl = sphere_searchlight(cv, radius=radius, space='voxel_indices',\n",
      "                             center_ids=center_ids,\n",
      "                             postproc=mean_sample())"
     ],
     "language": "python",
     "metadata": {},
     "outputs": [],
     "prompt_number": 13
    },
    {
     "cell_type": "markdown",
     "metadata": {},
     "source": [
      "\n",
      "\n",
      "Since we care about efficiency, we are stripping all attributes from the\n",
      "dataset that are not required for the searchlight analysis. This will offers\n",
      "some speedup, since it reduces the time that is spent on dataset slicing."
     ]
    },
    {
     "cell_type": "code",
     "collapsed": false,
     "input": [
      "    ds = dataset.copy(deep=False,\n",
      "                       sa=['targets', 'chunks'],\n",
      "                       fa=['voxel_indices'],\n",
      "                       a=['mapper'])"
     ],
     "language": "python",
     "metadata": {},
     "outputs": [],
     "prompt_number": 14
    },
    {
     "cell_type": "markdown",
     "metadata": {},
     "source": [
      "\n",
      "\n",
      "Finally, we actually run the analysis. The result is returned as a\n",
      "dataset. For the upcoming plots, we are transforming the returned error\n",
      "maps into accuracies."
     ]
    },
    {
     "cell_type": "code",
     "collapsed": false,
     "input": [
      "    sl_map = sl(ds)\n",
      "    sl_map.samples *= -1\n",
      "    sl_map.samples += 1"
     ],
     "language": "python",
     "metadata": {},
     "outputs": [
      {
       "output_type": "stream",
       "stream": "stdout",
       "text": [
        "[SLC] DBG:                     Starting computing block for 577 elements\n"
       ]
      },
      {
       "output_type": "stream",
       "stream": "stdout",
       "text": [
        "\r",
        "[SLC] DBG:                     +0:00:00 _______[0%]_______ -0:06:29  ROI 3076 (1/577), 123 features"
       ]
      },
      {
       "output_type": "stream",
       "stream": "stdout",
       "text": [
        "\r",
        "                                                                                                   \r",
        "[SLC] DBG:                     +0:00:00 _______[0%]_______ -0:04:18  ROI 3818 (2/577), 122 features"
       ]
      },
      {
       "output_type": "stream",
       "stream": "stdout",
       "text": [
        "\r",
        "                                                                                                   \r",
        "[SLC] DBG:                     +0:00:01 _______[1%]_______ -0:03:32  ROI 3819 (3/577), 123 features"
       ]
      },
      {
       "output_type": "stream",
       "stream": "stdout",
       "text": [
        "\r",
        "                                                                                                   \r",
        "[SLC] DBG:                     +0:00:01 _______[1%]_______ -0:03:11  ROI 3820 (4/577), 123 features"
       ]
      },
      {
       "output_type": "stream",
       "stream": "stdout",
       "text": [
        "\r",
        "                                                                                                   \r",
        "[SLC] DBG:                     +0:00:01 _______[1%]_______ -0:02:56  ROI 3847 (5/577), 123 features"
       ]
      },
      {
       "output_type": "stream",
       "stream": "stdout",
       "text": [
        "\r",
        "                                                                                                   \r",
        "[SLC] DBG:                     +0:00:01 _______[1%]_______ -0:02:47  ROI 3848 (6/577), 123 features"
       ]
      },
      {
       "output_type": "stream",
       "stream": "stdout",
       "text": [
        "\r",
        "                                                                                                   \r",
        "[SLC] DBG:                     +0:00:02 _______[1%]_______ -0:02:44  ROI 3849 (7/577), 123 features"
       ]
      },
      {
       "output_type": "stream",
       "stream": "stdout",
       "text": [
        "\r",
        "                                                                                                   \r",
        "[SLC] DBG:                     +0:00:02 _______[1%]_______ -0:02:46  ROI 3879 (8/577), 123 features"
       ]
      },
      {
       "output_type": "stream",
       "stream": "stdout",
       "text": [
        "\r",
        "                                                                                                   \r",
        "[SLC] DBG:                     +0:00:02 _______[2%]_______ -0:02:40  ROI 3942 (9/577), 123 features"
       ]
      },
      {
       "output_type": "stream",
       "stream": "stdout",
       "text": [
        "\r",
        "                                                                                                   \r",
        "[SLC] DBG:                     +0:00:02 _______[2%]_______ -0:02:36  ROI 3943 (10/577), 123 features"
       ]
      },
      {
       "output_type": "stream",
       "stream": "stdout",
       "text": [
        "\r",
        "                                                                                                    \r",
        "[SLC] DBG:                     +0:00:02 _______[2%]_______ -0:02:32  ROI 3975 (11/577), 123 features"
       ]
      },
      {
       "output_type": "stream",
       "stream": "stdout",
       "text": [
        "\r",
        "                                                                                                    \r",
        "[SLC] DBG:                     +0:00:03 _______[2%]_______ -0:02:28  ROI 3976 (12/577), 123 features"
       ]
      },
      {
       "output_type": "stream",
       "stream": "stdout",
       "text": [
        "\r",
        "                                                                                                    \r",
        "[SLC] DBG:                     +0:00:03 _______[2%]_______ -0:02:26  ROI 3977 (13/577), 123 features"
       ]
      },
      {
       "output_type": "stream",
       "stream": "stdout",
       "text": [
        "\r",
        "                                                                                                    \r",
        "[SLC] DBG:                     +0:00:03 _______[2%]_______ -0:02:23  ROI 4009 (14/577), 123 features"
       ]
      },
      {
       "output_type": "stream",
       "stream": "stdout",
       "text": [
        "\r",
        "                                                                                                    \r",
        "[SLC] DBG:                     +0:00:03 _______[3%]_______ -0:02:21  ROI 4010 (15/577), 123 features"
       ]
      },
      {
       "output_type": "stream",
       "stream": "stdout",
       "text": [
        "\r",
        "                                                                                                    \r",
        "[SLC] DBG:                     +0:00:03 _______[3%]_______ -0:02:19  ROI 4011 (16/577), 123 features"
       ]
      },
      {
       "output_type": "stream",
       "stream": "stdout",
       "text": [
        "\r",
        "                                                                                                    \r",
        "[SLC] DBG:                     +0:00:04 _______[3%]_______ -0:02:17  ROI 4804 (17/577), 123 features"
       ]
      },
      {
       "output_type": "stream",
       "stream": "stdout",
       "text": [
        "\r",
        "                                                                                                    \r",
        "[SLC] DBG:                     +0:00:04 _______[3%]_______ -0:02:16  ROI 4805 (18/577), 123 features"
       ]
      },
      {
       "output_type": "stream",
       "stream": "stdout",
       "text": [
        "\r",
        "                                                                                                    \r",
        "[SLC] DBG:                     +0:00:04 _______[3%]_______ -0:02:15  ROI 4806 (19/577), 123 features"
       ]
      },
      {
       "output_type": "stream",
       "stream": "stdout",
       "text": [
        "\r",
        "                                                                                                    \r",
        "[SLC] DBG:                     +0:00:04 _______[3%]_______ -0:02:13  ROI 4807 (20/577), 123 features"
       ]
      },
      {
       "output_type": "stream",
       "stream": "stdout",
       "text": [
        "\r",
        "                                                                                                    \r",
        "[SLC] DBG:                     +0:00:05 _______[4%]_______ -0:02:12  ROI 4836 (21/577), 123 features"
       ]
      },
      {
       "output_type": "stream",
       "stream": "stdout",
       "text": [
        "\r",
        "                                                                                                    \r",
        "[SLC] DBG:                     +0:00:05 _______[4%]_______ -0:02:11  ROI 4837 (22/577), 123 features"
       ]
      },
      {
       "output_type": "stream",
       "stream": "stdout",
       "text": [
        "\r",
        "                                                                                                    \r",
        "[SLC] DBG:                     +0:00:05 _______[4%]_______ -0:02:10  ROI 4838 (23/577), 123 features"
       ]
      },
      {
       "output_type": "stream",
       "stream": "stdout",
       "text": [
        "\r",
        "                                                                                                    \r",
        "[SLC] DBG:                     +0:00:05 _______[4%]_______ -0:02:09  ROI 4870 (24/577), 123 features"
       ]
      },
      {
       "output_type": "stream",
       "stream": "stdout",
       "text": [
        "\r",
        "                                                                                                    \r",
        "[SLC] DBG:                     +0:00:05 _______[4%]_______ -0:02:11  ROI 4871 (25/577), 123 features"
       ]
      },
      {
       "output_type": "stream",
       "stream": "stdout",
       "text": [
        "\r",
        "                                                                                                    \r",
        "[SLC] DBG:                     +0:00:06 _______[5%]_______ -0:02:10  ROI 4872 (26/577), 123 features"
       ]
      },
      {
       "output_type": "stream",
       "stream": "stdout",
       "text": [
        "\r",
        "                                                                                                    \r",
        "[SLC] DBG:                     +0:00:06 _______[5%]_______ -0:02:09  ROI 4903 (27/577), 123 features"
       ]
      },
      {
       "output_type": "stream",
       "stream": "stdout",
       "text": [
        "\r",
        "                                                                                                    \r",
        "[SLC] DBG:                     +0:00:06 _______[5%]_______ -0:02:08  ROI 4904 (28/577), 123 features"
       ]
      },
      {
       "output_type": "stream",
       "stream": "stdout",
       "text": [
        "\r",
        "                                                                                                    \r",
        "[SLC] DBG:                     +0:00:06 _______[5%]_______ -0:02:07  ROI 4905 (29/577), 123 features"
       ]
      },
      {
       "output_type": "stream",
       "stream": "stdout",
       "text": [
        "\r",
        "                                                                                                    \r",
        "[SLC] DBG:                     +0:00:07 _______[5%]_______ -0:02:09  ROI 4907 (30/577), 123 features"
       ]
      },
      {
       "output_type": "stream",
       "stream": "stdout",
       "text": [
        "\r",
        "                                                                                                    \r",
        "[SLC] DBG:                     +0:00:07 _______[5%]_______ -0:02:08  ROI 4938 (31/577), 123 features"
       ]
      },
      {
       "output_type": "stream",
       "stream": "stdout",
       "text": [
        "\r",
        "                                                                                                    \r",
        "[SLC] DBG:                     +0:00:07 _______[6%]_______ -0:02:07  ROI 4939 (32/577), 123 features"
       ]
      },
      {
       "output_type": "stream",
       "stream": "stdout",
       "text": [
        "\r",
        "                                                                                                    \r",
        "[SLC] DBG:                     +0:00:07 =_______[6%]______ -0:02:07  ROI 4940 (33/577), 123 features"
       ]
      },
      {
       "output_type": "stream",
       "stream": "stdout",
       "text": [
        "\r",
        "                                                                                                    \r",
        "[SLC] DBG:                     +0:00:07 =_______[6%]______ -0:02:06  ROI 4973 (34/577), 123 features"
       ]
      },
      {
       "output_type": "stream",
       "stream": "stdout",
       "text": [
        "\r",
        "                                                                                                    \r",
        "[SLC] DBG:                     +0:00:08 =_______[6%]______ -0:02:06  ROI 4975 (35/577), 123 features"
       ]
      },
      {
       "output_type": "stream",
       "stream": "stdout",
       "text": [
        "\r",
        "                                                                                                    \r",
        "[SLC] DBG:                     +0:00:08 =_______[6%]______ -0:02:05  ROI 4976 (36/577), 123 features"
       ]
      },
      {
       "output_type": "stream",
       "stream": "stdout",
       "text": [
        "\r",
        "                                                                                                    \r",
        "[SLC] DBG:                     +0:00:08 =_______[6%]______ -0:02:05  ROI 5009 (37/577), 123 features"
       ]
      },
      {
       "output_type": "stream",
       "stream": "stdout",
       "text": [
        "\r",
        "                                                                                                    \r",
        "[SLC] DBG:                     +0:00:08 =_______[7%]______ -0:02:05  ROI 5010 (38/577), 123 features"
       ]
      },
      {
       "output_type": "stream",
       "stream": "stdout",
       "text": [
        "\r",
        "                                                                                                    \r",
        "[SLC] DBG:                     +0:00:09 =_______[7%]______ -0:02:04  ROI 5011 (39/577), 123 features"
       ]
      },
      {
       "output_type": "stream",
       "stream": "stdout",
       "text": [
        "\r",
        "                                                                                                    \r",
        "[SLC] DBG:                     +0:00:09 =_______[7%]______ -0:02:04  ROI 5012 (40/577), 123 features"
       ]
      },
      {
       "output_type": "stream",
       "stream": "stdout",
       "text": [
        "\r",
        "                                                                                                    \r",
        "[SLC] DBG:                     +0:00:09 =_______[7%]______ -0:02:03  ROI 5044 (41/577), 123 features"
       ]
      },
      {
       "output_type": "stream",
       "stream": "stdout",
       "text": [
        "\r",
        "                                                                                                    \r",
        "[SLC] DBG:                     +0:00:09 =_______[7%]______ -0:02:03  ROI 5045 (42/577), 123 features"
       ]
      },
      {
       "output_type": "stream",
       "stream": "stdout",
       "text": [
        "\r",
        "                                                                                                    \r",
        "[SLC] DBG:                     +0:00:09 =_______[7%]______ -0:02:02  ROI 5079 (43/577), 123 features"
       ]
      },
      {
       "output_type": "stream",
       "stream": "stdout",
       "text": [
        "\r",
        "                                                                                                    \r",
        "[SLC] DBG:                     +0:00:10 =_______[8%]______ -0:02:02  ROI 5116 (44/577), 123 features"
       ]
      },
      {
       "output_type": "stream",
       "stream": "stdout",
       "text": [
        "\r",
        "                                                                                                    \r",
        "[SLC] DBG:                     +0:00:10 =_______[8%]______ -0:02:01  ROI 5867 (45/577), 123 features"
       ]
      },
      {
       "output_type": "stream",
       "stream": "stdout",
       "text": [
        "\r",
        "                                                                                                    \r",
        "[SLC] DBG:                     +0:00:10 =_______[8%]______ -0:02:01  ROI 5868 (46/577), 123 features"
       ]
      },
      {
       "output_type": "stream",
       "stream": "stdout",
       "text": [
        "\r",
        "                                                                                                    \r",
        "[SLC] DBG:                     +0:00:10 =_______[8%]______ -0:02:00  ROI 5869 (47/577), 123 features"
       ]
      },
      {
       "output_type": "stream",
       "stream": "stdout",
       "text": [
        "\r",
        "                                                                                                    \r",
        "[SLC] DBG:                     +0:00:10 =_______[8%]______ -0:02:00  ROI 5870 (48/577), 123 features"
       ]
      },
      {
       "output_type": "stream",
       "stream": "stdout",
       "text": [
        "\r",
        "                                                                                                    \r",
        "[SLC] DBG:                     +0:00:11 =_______[8%]______ -0:01:59  ROI 5898 (49/577), 123 features"
       ]
      },
      {
       "output_type": "stream",
       "stream": "stdout",
       "text": [
        "\r",
        "                                                                                                    \r",
        "[SLC] DBG:                     +0:00:11 =_______[9%]______ -0:01:59  ROI 5900 (50/577), 123 features"
       ]
      },
      {
       "output_type": "stream",
       "stream": "stdout",
       "text": [
        "\r",
        "                                                                                                    \r",
        "[SLC] DBG:                     +0:00:11 =_______[9%]______ -0:01:59  ROI 5901 (51/577), 123 features"
       ]
      },
      {
       "output_type": "stream",
       "stream": "stdout",
       "text": [
        "\r",
        "                                                                                                    \r",
        "[SLC] DBG:                     +0:00:11 =_______[9%]______ -0:01:58  ROI 5902 (52/577), 123 features"
       ]
      },
      {
       "output_type": "stream",
       "stream": "stdout",
       "text": [
        "\r",
        "                                                                                                    \r",
        "[SLC] DBG:                     +0:00:11 =_______[9%]______ -0:01:58  ROI 5903 (53/577), 123 features"
       ]
      },
      {
       "output_type": "stream",
       "stream": "stdout",
       "text": [
        "\r",
        "                                                                                                    \r",
        "[SLC] DBG:                     +0:00:12 =_______[9%]______ -0:01:57  ROI 5932 (54/577), 123 features"
       ]
      },
      {
       "output_type": "stream",
       "stream": "stdout",
       "text": [
        "\r",
        "                                                                                                    \r",
        "[SLC] DBG:                     +0:00:12 =_______[10%]_____ -0:01:57  ROI 5933 (55/577), 123 features"
       ]
      },
      {
       "output_type": "stream",
       "stream": "stdout",
       "text": [
        "\r",
        "                                                                                                    \r",
        "[SLC] DBG:                     +0:00:12 =_______[10%]_____ -0:01:57  ROI 5934 (56/577), 123 features"
       ]
      },
      {
       "output_type": "stream",
       "stream": "stdout",
       "text": [
        "\r",
        "                                                                                                    \r",
        "[SLC] DBG:                     +0:00:12 =_______[10%]_____ -0:01:56  ROI 5935 (57/577), 123 features"
       ]
      },
      {
       "output_type": "stream",
       "stream": "stdout",
       "text": [
        "\r",
        "                                                                                                    \r",
        "[SLC] DBG:                     +0:00:13 =_______[10%]_____ -0:01:56  ROI 5936 (58/577), 123 features"
       ]
      },
      {
       "output_type": "stream",
       "stream": "stdout",
       "text": [
        "\r",
        "                                                                                                    \r",
        "[SLC] DBG:                     +0:00:13 =_______[10%]_____ -0:01:56  ROI 5937 (59/577), 123 features"
       ]
      },
      {
       "output_type": "stream",
       "stream": "stdout",
       "text": [
        "\r",
        "                                                                                                    \r",
        "[SLC] DBG:                     +0:00:13 =_______[10%]_____ -0:01:56  ROI 5969 (60/577), 123 features"
       ]
      },
      {
       "output_type": "stream",
       "stream": "stdout",
       "text": [
        "\r",
        "                                                                                                    \r",
        "[SLC] DBG:                     +0:00:13 =_______[11%]_____ -0:01:55  ROI 5970 (61/577), 123 features"
       ]
      },
      {
       "output_type": "stream",
       "stream": "stdout",
       "text": [
        "\r",
        "                                                                                                    \r",
        "[SLC] DBG:                     +0:00:13 =_______[11%]_____ -0:01:55  ROI 5971 (62/577), 123 features"
       ]
      },
      {
       "output_type": "stream",
       "stream": "stdout",
       "text": [
        "\r",
        "                                                                                                    \r",
        "[SLC] DBG:                     +0:00:14 =_______[11%]_____ -0:01:54  ROI 5973 (63/577), 123 features"
       ]
      },
      {
       "output_type": "stream",
       "stream": "stdout",
       "text": [
        "\r",
        "                                                                                                    \r",
        "[SLC] DBG:                     +0:00:14 =_______[11%]_____ -0:01:54  ROI 5974 (64/577), 123 features"
       ]
      },
      {
       "output_type": "stream",
       "stream": "stdout",
       "text": [
        "\r",
        "                                                                                                    \r",
        "[SLC] DBG:                     +0:00:14 ==______[11%]_____ -0:01:54  ROI 6006 (65/577), 123 features"
       ]
      },
      {
       "output_type": "stream",
       "stream": "stdout",
       "text": [
        "\r",
        "                                                                                                    \r",
        "[SLC] DBG:                     +0:00:14 ==______[11%]_____ -0:01:54  ROI 6007 (66/577), 123 features"
       ]
      },
      {
       "output_type": "stream",
       "stream": "stdout",
       "text": [
        "\r",
        "                                                                                                    \r",
        "[SLC] DBG:                     +0:00:15 ==______[12%]_____ -0:01:54  ROI 6008 (67/577), 123 features"
       ]
      },
      {
       "output_type": "stream",
       "stream": "stdout",
       "text": [
        "\r",
        "                                                                                                    \r",
        "[SLC] DBG:                     +0:00:15 ==______[12%]_____ -0:01:54  ROI 6043 (68/577), 123 features"
       ]
      },
      {
       "output_type": "stream",
       "stream": "stdout",
       "text": [
        "\r",
        "                                                                                                    \r",
        "[SLC] DBG:                     +0:00:15 ==______[12%]_____ -0:01:53  ROI 6045 (69/577), 123 features"
       ]
      },
      {
       "output_type": "stream",
       "stream": "stdout",
       "text": [
        "\r",
        "                                                                                                    \r",
        "[SLC] DBG:                     +0:00:15 ==______[12%]_____ -0:01:53  ROI 6046 (70/577), 123 features"
       ]
      },
      {
       "output_type": "stream",
       "stream": "stdout",
       "text": [
        "\r",
        "                                                                                                    \r",
        "[SLC] DBG:                     +0:00:15 ==______[12%]_____ -0:01:53  ROI 6080 (71/577), 123 features"
       ]
      },
      {
       "output_type": "stream",
       "stream": "stdout",
       "text": [
        "\r",
        "                                                                                                    \r",
        "[SLC] DBG:                     +0:00:16 ==______[12%]_____ -0:01:53  ROI 6117 (72/577), 123 features"
       ]
      },
      {
       "output_type": "stream",
       "stream": "stdout",
       "text": [
        "\r",
        "                                                                                                    \r",
        "[SLC] DBG:                     +0:00:16 ==______[13%]_____ -0:01:54  ROI 6154 (73/577), 123 features"
       ]
      },
      {
       "output_type": "stream",
       "stream": "stdout",
       "text": [
        "\r",
        "                                                                                                    \r",
        "[SLC] DBG:                     +0:00:16 ==______[13%]_____ -0:01:54  ROI 6155 (74/577), 123 features"
       ]
      },
      {
       "output_type": "stream",
       "stream": "stdout",
       "text": [
        "\r",
        "                                                                                                    \r",
        "[SLC] DBG:                     +0:00:17 ==______[13%]_____ -0:01:54  ROI 6227 (75/577), 123 features"
       ]
      },
      {
       "output_type": "stream",
       "stream": "stdout",
       "text": [
        "\r",
        "                                                                                                    \r",
        "[SLC] DBG:                     +0:00:17 ==______[13%]_____ -0:01:53  ROI 6992 (76/577), 123 features"
       ]
      },
      {
       "output_type": "stream",
       "stream": "stdout",
       "text": [
        "\r",
        "                                                                                                    \r",
        "[SLC] DBG:                     +0:00:17 ==______[13%]_____ -0:01:53  ROI 6993 (77/577), 123 features"
       ]
      },
      {
       "output_type": "stream",
       "stream": "stdout",
       "text": [
        "\r",
        "                                                                                                    \r",
        "[SLC] DBG:                     +0:00:17 ==______[14%]_____ -0:01:52  ROI 6994 (78/577), 123 features"
       ]
      },
      {
       "output_type": "stream",
       "stream": "stdout",
       "text": [
        "\r",
        "                                                                                                    \r",
        "[SLC] DBG:                     +0:00:17 ==______[14%]_____ -0:01:52  ROI 6995 (79/577), 123 features"
       ]
      },
      {
       "output_type": "stream",
       "stream": "stdout",
       "text": [
        "\r",
        "                                                                                                    \r",
        "[SLC] DBG:                     +0:00:18 ==______[14%]_____ -0:01:51  ROI 6996 (80/577), 123 features"
       ]
      },
      {
       "output_type": "stream",
       "stream": "stdout",
       "text": [
        "\r",
        "                                                                                                    \r",
        "[SLC] DBG:                     +0:00:18 ==______[14%]_____ -0:01:51  ROI 6997 (81/577), 123 features"
       ]
      },
      {
       "output_type": "stream",
       "stream": "stdout",
       "text": [
        "\r",
        "                                                                                                    \r",
        "[SLC] DBG:                     +0:00:18 ==______[14%]_____ -0:01:50  ROI 7027 (82/577), 123 features"
       ]
      },
      {
       "output_type": "stream",
       "stream": "stdout",
       "text": [
        "\r",
        "                                                                                                    \r",
        "[SLC] DBG:                     +0:00:18 ==______[14%]_____ -0:01:50  ROI 7028 (83/577), 123 features"
       ]
      },
      {
       "output_type": "stream",
       "stream": "stdout",
       "text": [
        "\r",
        "                                                                                                    \r",
        "[SLC] DBG:                     +0:00:18 ==______[15%]_____ -0:01:49  ROI 7029 (84/577), 123 features"
       ]
      },
      {
       "output_type": "stream",
       "stream": "stdout",
       "text": [
        "\r",
        "                                                                                                    \r",
        "[SLC] DBG:                     +0:00:18 ==______[15%]_____ -0:01:49  ROI 7031 (85/577), 123 features"
       ]
      },
      {
       "output_type": "stream",
       "stream": "stdout",
       "text": [
        "\r",
        "                                                                                                    \r",
        "[SLC] DBG:                     +0:00:19 ==______[15%]_____ -0:01:49  ROI 7032 (86/577), 123 features"
       ]
      },
      {
       "output_type": "stream",
       "stream": "stdout",
       "text": [
        "\r",
        "                                                                                                    \r",
        "[SLC] DBG:                     +0:00:19 ==______[15%]_____ -0:01:48  ROI 7033 (87/577), 123 features"
       ]
      },
      {
       "output_type": "stream",
       "stream": "stdout",
       "text": [
        "\r",
        "                                                                                                    \r",
        "[SLC] DBG:                     +0:00:19 ==______[15%]_____ -0:01:48  ROI 7063 (88/577), 123 features"
       ]
      },
      {
       "output_type": "stream",
       "stream": "stdout",
       "text": [
        "\r",
        "                                                                                                    \r",
        "[SLC] DBG:                     +0:00:19 ==______[15%]_____ -0:01:47  ROI 7064 (89/577), 123 features"
       ]
      },
      {
       "output_type": "stream",
       "stream": "stdout",
       "text": [
        "\r",
        "                                                                                                    \r",
        "[SLC] DBG:                     +0:00:19 ==______[16%]_____ -0:01:47  ROI 7065 (90/577), 123 features"
       ]
      },
      {
       "output_type": "stream",
       "stream": "stdout",
       "text": [
        "\r",
        "                                                                                                    \r",
        "[SLC] DBG:                     +0:00:20 ==______[16%]_____ -0:01:47  ROI 7067 (91/577), 123 features"
       ]
      },
      {
       "output_type": "stream",
       "stream": "stdout",
       "text": [
        "\r",
        "                                                                                                    \r",
        "[SLC] DBG:                     +0:00:20 ==______[16%]_____ -0:01:46  ROI 7068 (92/577), 123 features"
       ]
      },
      {
       "output_type": "stream",
       "stream": "stdout",
       "text": [
        "\r",
        "                                                                                                    \r",
        "[SLC] DBG:                     +0:00:20 ==______[16%]_____ -0:01:46  ROI 7100 (93/577), 123 features"
       ]
      },
      {
       "output_type": "stream",
       "stream": "stdout",
       "text": [
        "\r",
        "                                                                                                    \r",
        "[SLC] DBG:                     +0:00:20 ==______[16%]_____ -0:01:45  ROI 7101 (94/577), 123 features"
       ]
      },
      {
       "output_type": "stream",
       "stream": "stdout",
       "text": [
        "\r",
        "                                                                                                    \r",
        "[SLC] DBG:                     +0:00:20 ==______[16%]_____ -0:01:45  ROI 7102 (95/577), 123 features"
       ]
      },
      {
       "output_type": "stream",
       "stream": "stdout",
       "text": [
        "\r",
        "                                                                                                    \r",
        "[SLC] DBG:                     +0:00:20 ==______[17%]_____ -0:01:45  ROI 7103 (96/577), 123 features"
       ]
      },
      {
       "output_type": "stream",
       "stream": "stdout",
       "text": [
        "\r",
        "                                                                                                    \r",
        "[SLC] DBG:                     +0:00:21 ===______[17%]____ -0:01:44  ROI 7104 (97/577), 123 features"
       ]
      },
      {
       "output_type": "stream",
       "stream": "stdout",
       "text": [
        "\r",
        "                                                                                                    \r",
        "[SLC] DBG:                     +0:00:21 ===______[17%]____ -0:01:44  ROI 7105 (98/577), 123 features"
       ]
      },
      {
       "output_type": "stream",
       "stream": "stdout",
       "text": [
        "\r",
        "                                                                                                    \r",
        "[SLC] DBG:                     +0:00:21 ===______[17%]____ -0:01:44  ROI 7138 (99/577), 123 features"
       ]
      },
      {
       "output_type": "stream",
       "stream": "stdout",
       "text": [
        "\r",
        "                                                                                                    \r",
        "[SLC] DBG:                     +0:00:21 ===______[17%]____ -0:01:43  ROI 7139 (100/577), 123 features"
       ]
      },
      {
       "output_type": "stream",
       "stream": "stdout",
       "text": [
        "\r",
        "                                                                                                     \r",
        "[SLC] DBG:                     +0:00:21 ===______[18%]____ -0:01:43  ROI 7141 (101/577), 123 features"
       ]
      },
      {
       "output_type": "stream",
       "stream": "stdout",
       "text": [
        "\r",
        "                                                                                                     \r",
        "[SLC] DBG:                     +0:00:22 ===______[18%]____ -0:01:43  ROI 7142 (102/577), 123 features"
       ]
      },
      {
       "output_type": "stream",
       "stream": "stdout",
       "text": [
        "\r",
        "                                                                                                     \r",
        "[SLC] DBG:                     +0:00:22 ===______[18%]____ -0:01:42  ROI 7176 (103/577), 123 features"
       ]
      },
      {
       "output_type": "stream",
       "stream": "stdout",
       "text": [
        "\r",
        "                                                                                                     \r",
        "[SLC] DBG:                     +0:00:22 ===______[18%]____ -0:01:42  ROI 7177 (104/577), 123 features"
       ]
      },
      {
       "output_type": "stream",
       "stream": "stdout",
       "text": [
        "\r",
        "                                                                                                     \r",
        "[SLC] DBG:                     +0:00:22 ===______[18%]____ -0:01:42  ROI 7214 (105/577), 123 features"
       ]
      },
      {
       "output_type": "stream",
       "stream": "stdout",
       "text": [
        "\r",
        "                                                                                                     \r",
        "[SLC] DBG:                     +0:00:22 ===______[18%]____ -0:01:42  ROI 7215 (106/577), 123 features"
       ]
      },
      {
       "output_type": "stream",
       "stream": "stdout",
       "text": [
        "\r",
        "                                                                                                     \r",
        "[SLC] DBG:                     +0:00:23 ===______[19%]____ -0:01:41  ROI 7216 (107/577), 123 features"
       ]
      },
      {
       "output_type": "stream",
       "stream": "stdout",
       "text": [
        "\r",
        "                                                                                                     \r",
        "[SLC] DBG:                     +0:00:23 ===______[19%]____ -0:01:41  ROI 7252 (108/577), 123 features"
       ]
      },
      {
       "output_type": "stream",
       "stream": "stdout",
       "text": [
        "\r",
        "                                                                                                     \r",
        "[SLC] DBG:                     +0:00:23 ===______[19%]____ -0:01:41  ROI 7253 (109/577), 123 features"
       ]
      },
      {
       "output_type": "stream",
       "stream": "stdout",
       "text": [
        "\r",
        "                                                                                                     \r",
        "[SLC] DBG:                     +0:00:23 ===______[19%]____ -0:01:40  ROI 7254 (110/577), 123 features"
       ]
      },
      {
       "output_type": "stream",
       "stream": "stdout",
       "text": [
        "\r",
        "                                                                                                     \r",
        "[SLC] DBG:                     +0:00:23 ===______[19%]____ -0:01:40  ROI 7433 (111/577), 123 features"
       ]
      },
      {
       "output_type": "stream",
       "stream": "stdout",
       "text": [
        "\r",
        "                                                                                                     \r",
        "[SLC] DBG:                     +0:00:24 ===______[19%]____ -0:01:40  ROI 7434 (112/577), 123 features"
       ]
      },
      {
       "output_type": "stream",
       "stream": "stdout",
       "text": [
        "\r",
        "                                                                                                     \r",
        "[SLC] DBG:                     +0:00:24 ===______[20%]____ -0:01:39  ROI 7467 (113/577), 123 features"
       ]
      },
      {
       "output_type": "stream",
       "stream": "stdout",
       "text": [
        "\r",
        "                                                                                                     \r",
        "[SLC] DBG:                     +0:00:24 ===______[20%]____ -0:01:39  ROI 8174 (114/577), 123 features"
       ]
      },
      {
       "output_type": "stream",
       "stream": "stdout",
       "text": [
        "\r",
        "                                                                                                     \r",
        "[SLC] DBG:                     +0:00:24 ===______[20%]____ -0:01:39  ROI 8175 (115/577), 123 features"
       ]
      },
      {
       "output_type": "stream",
       "stream": "stdout",
       "text": [
        "\r",
        "                                                                                                     \r",
        "[SLC] DBG:                     +0:00:24 ===______[20%]____ -0:01:38  ROI 8177 (116/577), 123 features"
       ]
      },
      {
       "output_type": "stream",
       "stream": "stdout",
       "text": [
        "\r",
        "                                                                                                     \r",
        "[SLC] DBG:                     +0:00:25 ===______[20%]____ -0:01:38  ROI 8210 (117/577), 123 features"
       ]
      },
      {
       "output_type": "stream",
       "stream": "stdout",
       "text": [
        "\r",
        "                                                                                                     \r",
        "[SLC] DBG:                     +0:00:25 ===______[20%]____ -0:01:38  ROI 8212 (118/577), 123 features"
       ]
      },
      {
       "output_type": "stream",
       "stream": "stdout",
       "text": [
        "\r",
        "                                                                                                     \r",
        "[SLC] DBG:                     +0:00:25 ===______[21%]____ -0:01:37  ROI 8215 (119/577), 123 features"
       ]
      },
      {
       "output_type": "stream",
       "stream": "stdout",
       "text": [
        "\r",
        "                                                                                                     \r",
        "[SLC] DBG:                     +0:00:25 ===______[21%]____ -0:01:37  ROI 8216 (120/577), 123 features"
       ]
      },
      {
       "output_type": "stream",
       "stream": "stdout",
       "text": [
        "\r",
        "                                                                                                     \r",
        "[SLC] DBG:                     +0:00:25 ===______[21%]____ -0:01:37  ROI 8247 (121/577), 123 features"
       ]
      },
      {
       "output_type": "stream",
       "stream": "stdout",
       "text": [
        "\r",
        "                                                                                                     \r",
        "[SLC] DBG:                     +0:00:26 ===______[21%]____ -0:01:36  ROI 8248 (122/577), 123 features"
       ]
      },
      {
       "output_type": "stream",
       "stream": "stdout",
       "text": [
        "\r",
        "                                                                                                     \r",
        "[SLC] DBG:                     +0:00:26 ===______[21%]____ -0:01:36  ROI 8249 (123/577), 123 features"
       ]
      },
      {
       "output_type": "stream",
       "stream": "stdout",
       "text": [
        "\r",
        "                                                                                                     \r",
        "[SLC] DBG:                     +0:00:26 ===______[21%]____ -0:01:36  ROI 8251 (124/577), 123 features"
       ]
      },
      {
       "output_type": "stream",
       "stream": "stdout",
       "text": [
        "\r",
        "                                                                                                     \r",
        "[SLC] DBG:                     +0:00:26 ===______[22%]____ -0:01:36  ROI 8252 (125/577), 123 features"
       ]
      },
      {
       "output_type": "stream",
       "stream": "stdout",
       "text": [
        "\r",
        "                                                                                                     \r",
        "[SLC] DBG:                     +0:00:26 ===______[22%]____ -0:01:35  ROI 8284 (126/577), 123 features"
       ]
      },
      {
       "output_type": "stream",
       "stream": "stdout",
       "text": [
        "\r",
        "                                                                                                     \r",
        "[SLC] DBG:                     +0:00:26 ===______[22%]____ -0:01:35  ROI 8285 (127/577), 123 features"
       ]
      },
      {
       "output_type": "stream",
       "stream": "stdout",
       "text": [
        "\r",
        "                                                                                                     \r",
        "[SLC] DBG:                     +0:00:27 ===______[22%]____ -0:01:35  ROI 8286 (128/577), 123 features"
       ]
      },
      {
       "output_type": "stream",
       "stream": "stdout",
       "text": [
        "\r",
        "                                                                                                     \r",
        "[SLC] DBG:                     +0:00:27 ====_____[22%]____ -0:01:34  ROI 8288 (129/577), 123 features"
       ]
      },
      {
       "output_type": "stream",
       "stream": "stdout",
       "text": [
        "\r",
        "                                                                                                     \r",
        "[SLC] DBG:                     +0:00:27 ====_____[23%]____ -0:01:34  ROI 8289 (130/577), 123 features"
       ]
      },
      {
       "output_type": "stream",
       "stream": "stdout",
       "text": [
        "\r",
        "                                                                                                     \r",
        "[SLC] DBG:                     +0:00:27 ====_____[23%]____ -0:01:34  ROI 8323 (131/577), 123 features"
       ]
      },
      {
       "output_type": "stream",
       "stream": "stdout",
       "text": [
        "\r",
        "                                                                                                     \r",
        "[SLC] DBG:                     +0:00:27 ====_____[23%]____ -0:01:34  ROI 8324 (132/577), 123 features"
       ]
      },
      {
       "output_type": "stream",
       "stream": "stdout",
       "text": [
        "\r",
        "                                                                                                     \r",
        "[SLC] DBG:                     +0:00:28 ====_____[23%]____ -0:01:33  ROI 8361 (133/577), 123 features"
       ]
      },
      {
       "output_type": "stream",
       "stream": "stdout",
       "text": [
        "\r",
        "                                                                                                     \r",
        "[SLC] DBG:                     +0:00:28 ====_____[23%]____ -0:01:33  ROI 8362 (134/577), 123 features"
       ]
      },
      {
       "output_type": "stream",
       "stream": "stdout",
       "text": [
        "\r",
        "                                                                                                     \r",
        "[SLC] DBG:                     +0:00:28 ====_____[23%]____ -0:01:33  ROI 8399 (135/577), 123 features"
       ]
      },
      {
       "output_type": "stream",
       "stream": "stdout",
       "text": [
        "\r",
        "                                                                                                     \r",
        "[SLC] DBG:                     +0:00:28 ====_____[24%]____ -0:01:33  ROI 8437 (136/577), 123 features"
       ]
      },
      {
       "output_type": "stream",
       "stream": "stdout",
       "text": [
        "\r",
        "                                                                                                     \r",
        "[SLC] DBG:                     +0:00:28 ====_____[24%]____ -0:01:32  ROI 8438 (137/577), 123 features"
       ]
      },
      {
       "output_type": "stream",
       "stream": "stdout",
       "text": [
        "\r",
        "                                                                                                     \r",
        "[SLC] DBG:                     +0:00:29 ====_____[24%]____ -0:01:32  ROI 8439 (138/577), 123 features"
       ]
      },
      {
       "output_type": "stream",
       "stream": "stdout",
       "text": [
        "\r",
        "                                                                                                     \r",
        "[SLC] DBG:                     +0:00:29 ====_____[24%]____ -0:01:32  ROI 8475 (139/577), 123 features"
       ]
      },
      {
       "output_type": "stream",
       "stream": "stdout",
       "text": [
        "\r",
        "                                                                                                     \r",
        "[SLC] DBG:                     +0:00:29 ====_____[24%]____ -0:01:31  ROI 8476 (140/577), 123 features"
       ]
      },
      {
       "output_type": "stream",
       "stream": "stdout",
       "text": [
        "\r",
        "                                                                                                     \r",
        "[SLC] DBG:                     +0:00:29 ====_____[24%]____ -0:01:31  ROI 8478 (141/577), 123 features"
       ]
      },
      {
       "output_type": "stream",
       "stream": "stdout",
       "text": [
        "\r",
        "                                                                                                     \r",
        "[SLC] DBG:                     +0:00:29 ====_____[25%]____ -0:01:31  ROI 8514 (142/577), 123 features"
       ]
      },
      {
       "output_type": "stream",
       "stream": "stdout",
       "text": [
        "\r",
        "                                                                                                     \r",
        "[SLC] DBG:                     +0:00:29 ====_____[25%]____ -0:01:31  ROI 8515 (143/577), 123 features"
       ]
      },
      {
       "output_type": "stream",
       "stream": "stdout",
       "text": [
        "\r",
        "                                                                                                     \r",
        "[SLC] DBG:                     +0:00:30 ====_____[25%]____ -0:01:30  ROI 8516 (144/577), 123 features"
       ]
      },
      {
       "output_type": "stream",
       "stream": "stdout",
       "text": [
        "\r",
        "                                                                                                     \r",
        "[SLC] DBG:                     +0:00:30 ====_____[25%]____ -0:01:30  ROI 8551 (145/577), 123 features"
       ]
      },
      {
       "output_type": "stream",
       "stream": "stdout",
       "text": [
        "\r",
        "                                                                                                     \r",
        "[SLC] DBG:                     +0:00:30 ====_____[25%]____ -0:01:30  ROI 8552 (146/577), 123 features"
       ]
      },
      {
       "output_type": "stream",
       "stream": "stdout",
       "text": [
        "\r",
        "                                                                                                     \r",
        "[SLC] DBG:                     +0:00:30 ====_____[25%]____ -0:01:29  ROI 8553 (147/577), 123 features"
       ]
      },
      {
       "output_type": "stream",
       "stream": "stdout",
       "text": [
        "\r",
        "                                                                                                     \r",
        "[SLC] DBG:                     +0:00:30 ====_____[26%]____ -0:01:29  ROI 8589 (148/577), 123 features"
       ]
      },
      {
       "output_type": "stream",
       "stream": "stdout",
       "text": [
        "\r",
        "                                                                                                     \r",
        "[SLC] DBG:                     +0:00:31 ====_____[26%]____ -0:01:29  ROI 8624 (149/577), 123 features"
       ]
      },
      {
       "output_type": "stream",
       "stream": "stdout",
       "text": [
        "\r",
        "                                                                                                     \r",
        "[SLC] DBG:                     +0:00:31 ====_____[26%]____ -0:01:29  ROI 8658 (150/577), 123 features"
       ]
      },
      {
       "output_type": "stream",
       "stream": "stdout",
       "text": [
        "\r",
        "                                                                                                     \r",
        "[SLC] DBG:                     +0:00:31 ====_____[26%]____ -0:01:28  ROI 9418 (151/577), 123 features"
       ]
      },
      {
       "output_type": "stream",
       "stream": "stdout",
       "text": [
        "\r",
        "                                                                                                     \r",
        "[SLC] DBG:                     +0:00:31 ====_____[26%]____ -0:01:28  ROI 9419 (152/577), 123 features"
       ]
      },
      {
       "output_type": "stream",
       "stream": "stdout",
       "text": [
        "\r",
        "                                                                                                     \r",
        "[SLC] DBG:                     +0:00:31 ====_____[27%]____ -0:01:28  ROI 9421 (153/577), 123 features"
       ]
      },
      {
       "output_type": "stream",
       "stream": "stdout",
       "text": [
        "\r",
        "                                                                                                     \r",
        "[SLC] DBG:                     +0:00:32 ====_____[27%]____ -0:01:27  ROI 9422 (154/577), 123 features"
       ]
      },
      {
       "output_type": "stream",
       "stream": "stdout",
       "text": [
        "\r",
        "                                                                                                     \r",
        "[SLC] DBG:                     +0:00:32 ====_____[27%]____ -0:01:27  ROI 9455 (155/577), 123 features"
       ]
      },
      {
       "output_type": "stream",
       "stream": "stdout",
       "text": [
        "\r",
        "                                                                                                     \r",
        "[SLC] DBG:                     +0:00:32 ====_____[27%]____ -0:01:27  ROI 9456 (156/577), 123 features"
       ]
      },
      {
       "output_type": "stream",
       "stream": "stdout",
       "text": [
        "\r",
        "                                                                                                     \r",
        "[SLC] DBG:                     +0:00:32 ====_____[27%]____ -0:01:27  ROI 9457 (157/577), 123 features"
       ]
      },
      {
       "output_type": "stream",
       "stream": "stdout",
       "text": [
        "\r",
        "                                                                                                     \r",
        "[SLC] DBG:                     +0:00:32 ====_____[27%]____ -0:01:26  ROI 9458 (158/577), 123 features"
       ]
      },
      {
       "output_type": "stream",
       "stream": "stdout",
       "text": [
        "\r",
        "                                                                                                     \r",
        "[SLC] DBG:                     +0:00:32 ====_____[28%]____ -0:01:26  ROI 9493 (159/577), 123 features"
       ]
      },
      {
       "output_type": "stream",
       "stream": "stdout",
       "text": [
        "\r",
        "                                                                                                     \r",
        "[SLC] DBG:                     +0:00:33 ====_____[28%]____ -0:01:26  ROI 9494 (160/577), 123 features"
       ]
      },
      {
       "output_type": "stream",
       "stream": "stdout",
       "text": [
        "\r",
        "                                                                                                     \r",
        "[SLC] DBG:                     +0:00:33 =====_____[28%]___ -0:01:26  ROI 9530 (161/577), 123 features"
       ]
      },
      {
       "output_type": "stream",
       "stream": "stdout",
       "text": [
        "\r",
        "                                                                                                     \r",
        "[SLC] DBG:                     +0:00:33 =====_____[28%]___ -0:01:25  ROI 9531 (162/577), 123 features"
       ]
      },
      {
       "output_type": "stream",
       "stream": "stdout",
       "text": [
        "\r",
        "                                                                                                     \r",
        "[SLC] DBG:                     +0:00:33 =====_____[28%]___ -0:01:25  ROI 9532 (163/577), 123 features"
       ]
      },
      {
       "output_type": "stream",
       "stream": "stdout",
       "text": [
        "\r",
        "                                                                                                     \r",
        "[SLC] DBG:                     +0:00:33 =====_____[28%]___ -0:01:25  ROI 9571 (164/577), 123 features"
       ]
      },
      {
       "output_type": "stream",
       "stream": "stdout",
       "text": [
        "\r",
        "                                                                                                     \r",
        "[SLC] DBG:                     +0:00:34 =====_____[29%]___ -0:01:24  ROI 9612 (165/577), 123 features"
       ]
      },
      {
       "output_type": "stream",
       "stream": "stdout",
       "text": [
        "\r",
        "                                                                                                     \r",
        "[SLC] DBG:                     +0:00:34 =====_____[29%]___ -0:01:24  ROI 9647 (166/577), 123 features"
       ]
      },
      {
       "output_type": "stream",
       "stream": "stdout",
       "text": [
        "\r",
        "                                                                                                     \r",
        "[SLC] DBG:                     +0:00:34 =====_____[29%]___ -0:01:24  ROI 9649 (167/577), 123 features"
       ]
      },
      {
       "output_type": "stream",
       "stream": "stdout",
       "text": [
        "\r",
        "                                                                                                     \r",
        "[SLC] DBG:                     +0:00:34 =====_____[29%]___ -0:01:24  ROI 9650 (168/577), 123 features"
       ]
      },
      {
       "output_type": "stream",
       "stream": "stdout",
       "text": [
        "\r",
        "                                                                                                     \r",
        "[SLC] DBG:                     +0:00:34 =====_____[29%]___ -0:01:23  ROI 9651 (169/577), 123 features"
       ]
      },
      {
       "output_type": "stream",
       "stream": "stdout",
       "text": [
        "\r",
        "                                                                                                     \r",
        "[SLC] DBG:                     +0:00:34 =====_____[29%]___ -0:01:23  ROI 9725 (170/577), 123 features"
       ]
      },
      {
       "output_type": "stream",
       "stream": "stdout",
       "text": [
        "\r",
        "                                                                                                     \r",
        "[SLC] DBG:                     +0:00:35 =====_____[30%]___ -0:01:23  ROI 9727 (171/577), 123 features"
       ]
      },
      {
       "output_type": "stream",
       "stream": "stdout",
       "text": [
        "\r",
        "                                                                                                     \r",
        "[SLC] DBG:                     +0:00:35 =====_____[30%]___ -0:01:23  ROI 9763 (172/577), 123 features"
       ]
      },
      {
       "output_type": "stream",
       "stream": "stdout",
       "text": [
        "\r",
        "                                                                                                     \r",
        "[SLC] DBG:                     +0:00:35 =====_____[30%]___ -0:01:22  ROI 9764 (173/577), 123 features"
       ]
      },
      {
       "output_type": "stream",
       "stream": "stdout",
       "text": [
        "\r",
        "                                                                                                     \r",
        "[SLC] DBG:                     +0:00:35 =====_____[30%]___ -0:01:22  ROI 9765 (174/577), 123 features"
       ]
      },
      {
       "output_type": "stream",
       "stream": "stdout",
       "text": [
        "\r",
        "                                                                                                     \r",
        "[SLC] DBG:                     +0:00:35 =====_____[30%]___ -0:01:22  ROI 9800 (175/577), 123 features"
       ]
      },
      {
       "output_type": "stream",
       "stream": "stdout",
       "text": [
        "\r",
        "                                                                                                     \r",
        "[SLC] DBG:                     +0:00:35 =====_____[31%]___ -0:01:22  ROI 9801 (176/577), 123 features"
       ]
      },
      {
       "output_type": "stream",
       "stream": "stdout",
       "text": [
        "\r",
        "                                                                                                     \r",
        "[SLC] DBG:                     +0:00:36 =====_____[31%]___ -0:01:21  ROI 9802 (177/577), 123 features"
       ]
      },
      {
       "output_type": "stream",
       "stream": "stdout",
       "text": [
        "\r",
        "                                                                                                     \r",
        "[SLC] DBG:                     +0:00:36 =====_____[31%]___ -0:01:21  ROI 9838 (178/577), 123 features"
       ]
      },
      {
       "output_type": "stream",
       "stream": "stdout",
       "text": [
        "\r",
        "                                                                                                     \r",
        "[SLC] DBG:                     +0:00:36 =====_____[31%]___ -0:01:21  ROI 9875 (179/577), 123 features"
       ]
      },
      {
       "output_type": "stream",
       "stream": "stdout",
       "text": [
        "\r",
        "                                                                                                     \r",
        "[SLC] DBG:                     +0:00:36 =====_____[31%]___ -0:01:21  ROI 9910 (180/577), 123 features"
       ]
      },
      {
       "output_type": "stream",
       "stream": "stdout",
       "text": [
        "\r",
        "                                                                                                     \r",
        "[SLC] DBG:                     +0:00:36 =====_____[31%]___ -0:01:20  ROI 10705 (181/577), 123 features"
       ]
      },
      {
       "output_type": "stream",
       "stream": "stdout",
       "text": [
        "\r",
        "                                                                                                      \r",
        "[SLC] DBG:                     +0:00:37 =====_____[32%]___ -0:01:20  ROI 10780 (182/577), 123 features"
       ]
      },
      {
       "output_type": "stream",
       "stream": "stdout",
       "text": [
        "\r",
        "                                                                                                      \r",
        "[SLC] DBG:                     +0:00:37 =====_____[32%]___ -0:01:20  ROI 10820 (183/577), 123 features"
       ]
      },
      {
       "output_type": "stream",
       "stream": "stdout",
       "text": [
        "\r",
        "                                                                                                      \r",
        "[SLC] DBG:                     +0:00:37 =====_____[32%]___ -0:01:20  ROI 10857 (184/577), 123 features"
       ]
      },
      {
       "output_type": "stream",
       "stream": "stdout",
       "text": [
        "\r",
        "                                                                                                      \r",
        "[SLC] DBG:                     +0:00:37 =====_____[32%]___ -0:01:19  ROI 10858 (185/577), 123 features"
       ]
      },
      {
       "output_type": "stream",
       "stream": "stdout",
       "text": [
        "\r",
        "                                                                                                      \r",
        "[SLC] DBG:                     +0:00:37 =====_____[32%]___ -0:01:19  ROI 10859 (186/577), 123 features"
       ]
      },
      {
       "output_type": "stream",
       "stream": "stdout",
       "text": [
        "\r",
        "                                                                                                      \r",
        "[SLC] DBG:                     +0:00:37 =====_____[32%]___ -0:01:19  ROI 10860 (187/577), 123 features"
       ]
      },
      {
       "output_type": "stream",
       "stream": "stdout",
       "text": [
        "\r",
        "                                                                                                      \r",
        "[SLC] DBG:                     +0:00:38 =====_____[33%]___ -0:01:18  ROI 10896 (188/577), 123 features"
       ]
      },
      {
       "output_type": "stream",
       "stream": "stdout",
       "text": [
        "\r",
        "                                                                                                      \r",
        "[SLC] DBG:                     +0:00:38 =====_____[33%]___ -0:01:18  ROI 10897 (189/577), 123 features"
       ]
      },
      {
       "output_type": "stream",
       "stream": "stdout",
       "text": [
        "\r",
        "                                                                                                      \r",
        "[SLC] DBG:                     +0:00:38 =====_____[33%]___ -0:01:18  ROI 10898 (190/577), 123 features"
       ]
      },
      {
       "output_type": "stream",
       "stream": "stdout",
       "text": [
        "\r",
        "                                                                                                      \r",
        "[SLC] DBG:                     +0:00:38 =====_____[33%]___ -0:01:18  ROI 10899 (191/577), 123 features"
       ]
      },
      {
       "output_type": "stream",
       "stream": "stdout",
       "text": [
        "\r",
        "                                                                                                      \r",
        "[SLC] DBG:                     +0:00:38 =====_____[33%]___ -0:01:17  ROI 10936 (192/577), 123 features"
       ]
      },
      {
       "output_type": "stream",
       "stream": "stdout",
       "text": [
        "\r",
        "                                                                                                      \r",
        "[SLC] DBG:                     +0:00:39 ======____[33%]___ -0:01:17  ROI 10937 (193/577), 123 features"
       ]
      },
      {
       "output_type": "stream",
       "stream": "stdout",
       "text": [
        "\r",
        "                                                                                                      \r",
        "[SLC] DBG:                     +0:00:39 ======____[34%]___ -0:01:17  ROI 10938 (194/577), 123 features"
       ]
      },
      {
       "output_type": "stream",
       "stream": "stdout",
       "text": [
        "\r",
        "                                                                                                      \r",
        "[SLC] DBG:                     +0:00:39 ======____[34%]___ -0:01:17  ROI 10975 (195/577), 123 features"
       ]
      },
      {
       "output_type": "stream",
       "stream": "stdout",
       "text": [
        "\r",
        "                                                                                                      \r",
        "[SLC] DBG:                     +0:00:39 ======____[34%]___ -0:01:17  ROI 10976 (196/577), 123 features"
       ]
      },
      {
       "output_type": "stream",
       "stream": "stdout",
       "text": [
        "\r",
        "                                                                                                      \r",
        "[SLC] DBG:                     +0:00:39 ======____[34%]___ -0:01:16  ROI 10978 (197/577), 123 features"
       ]
      },
      {
       "output_type": "stream",
       "stream": "stdout",
       "text": [
        "\r",
        "                                                                                                      \r",
        "[SLC] DBG:                     +0:00:39 ======____[34%]___ -0:01:16  ROI 11013 (198/577), 123 features"
       ]
      },
      {
       "output_type": "stream",
       "stream": "stdout",
       "text": [
        "\r",
        "                                                                                                      \r",
        "[SLC] DBG:                     +0:00:40 ======____[34%]___ -0:01:16  ROI 11014 (199/577), 123 features"
       ]
      },
      {
       "output_type": "stream",
       "stream": "stdout",
       "text": [
        "\r",
        "                                                                                                      \r",
        "[SLC] DBG:                     +0:00:40 ======____[35%]___ -0:01:16  ROI 11051 (200/577), 123 features"
       ]
      },
      {
       "output_type": "stream",
       "stream": "stdout",
       "text": [
        "\r",
        "                                                                                                      \r",
        "[SLC] DBG:                     +0:00:40 ======____[35%]___ -0:01:15  ROI 11052 (201/577), 123 features"
       ]
      },
      {
       "output_type": "stream",
       "stream": "stdout",
       "text": [
        "\r",
        "                                                                                                      \r",
        "[SLC] DBG:                     +0:00:40 ======____[35%]___ -0:01:15  ROI 11053 (202/577), 123 features"
       ]
      },
      {
       "output_type": "stream",
       "stream": "stdout",
       "text": [
        "\r",
        "                                                                                                      \r",
        "[SLC] DBG:                     +0:00:40 ======____[35%]___ -0:01:15  ROI 11089 (203/577), 123 features"
       ]
      },
      {
       "output_type": "stream",
       "stream": "stdout",
       "text": [
        "\r",
        "                                                                                                      \r",
        "[SLC] DBG:                     +0:00:41 ======____[35%]___ -0:01:15  ROI 11090 (204/577), 123 features"
       ]
      },
      {
       "output_type": "stream",
       "stream": "stdout",
       "text": [
        "\r",
        "                                                                                                      \r",
        "[SLC] DBG:                     +0:00:41 ======____[36%]___ -0:01:14  ROI 11129 (205/577), 123 features"
       ]
      },
      {
       "output_type": "stream",
       "stream": "stdout",
       "text": [
        "\r",
        "                                                                                                      \r",
        "[SLC] DBG:                     +0:00:41 ======____[36%]___ -0:01:14  ROI 11164 (206/577), 123 features"
       ]
      },
      {
       "output_type": "stream",
       "stream": "stdout",
       "text": [
        "\r",
        "                                                                                                      \r",
        "[SLC] DBG:                     +0:00:41 ======____[36%]___ -0:01:14  ROI 12016 (207/577), 123 features"
       ]
      },
      {
       "output_type": "stream",
       "stream": "stdout",
       "text": [
        "\r",
        "                                                                                                      \r",
        "[SLC] DBG:                     +0:00:41 ======____[36%]___ -0:01:14  ROI 12093 (208/577), 123 features"
       ]
      },
      {
       "output_type": "stream",
       "stream": "stdout",
       "text": [
        "\r",
        "                                                                                                      \r",
        "[SLC] DBG:                     +0:00:41 ======____[36%]___ -0:01:13  ROI 12096 (209/577), 123 features"
       ]
      },
      {
       "output_type": "stream",
       "stream": "stdout",
       "text": [
        "\r",
        "                                                                                                      \r",
        "[SLC] DBG:                     +0:00:42 ======____[36%]___ -0:01:13  ROI 12130 (210/577), 123 features"
       ]
      },
      {
       "output_type": "stream",
       "stream": "stdout",
       "text": [
        "\r",
        "                                                                                                      \r",
        "[SLC] DBG:                     +0:00:42 ======____[37%]___ -0:01:13  ROI 12131 (211/577), 123 features"
       ]
      },
      {
       "output_type": "stream",
       "stream": "stdout",
       "text": [
        "\r",
        "                                                                                                      \r",
        "[SLC] DBG:                     +0:00:42 ======____[37%]___ -0:01:13  ROI 12132 (212/577), 123 features"
       ]
      },
      {
       "output_type": "stream",
       "stream": "stdout",
       "text": [
        "\r",
        "                                                                                                      \r",
        "[SLC] DBG:                     +0:00:42 ======____[37%]___ -0:01:12  ROI 12169 (213/577), 123 features"
       ]
      },
      {
       "output_type": "stream",
       "stream": "stdout",
       "text": [
        "\r",
        "                                                                                                      \r",
        "[SLC] DBG:                     +0:00:42 ======____[37%]___ -0:01:12  ROI 12170 (214/577), 123 features"
       ]
      },
      {
       "output_type": "stream",
       "stream": "stdout",
       "text": [
        "\r",
        "                                                                                                      \r",
        "[SLC] DBG:                     +0:00:43 ======____[37%]___ -0:01:12  ROI 12171 (215/577), 123 features"
       ]
      },
      {
       "output_type": "stream",
       "stream": "stdout",
       "text": [
        "\r",
        "                                                                                                      \r",
        "[SLC] DBG:                     +0:00:43 ======____[37%]___ -0:01:12  ROI 12208 (216/577), 123 features"
       ]
      },
      {
       "output_type": "stream",
       "stream": "stdout",
       "text": [
        "\r",
        "                                                                                                      \r",
        "[SLC] DBG:                     +0:00:43 ======____[38%]___ -0:01:12  ROI 12209 (217/577), 123 features"
       ]
      },
      {
       "output_type": "stream",
       "stream": "stdout",
       "text": [
        "\r",
        "                                                                                                      \r",
        "[SLC] DBG:                     +0:00:43 ======____[38%]___ -0:01:11  ROI 12210 (218/577), 123 features"
       ]
      },
      {
       "output_type": "stream",
       "stream": "stdout",
       "text": [
        "\r",
        "                                                                                                      \r",
        "[SLC] DBG:                     +0:00:43 ======____[38%]___ -0:01:11  ROI 12211 (219/577), 123 features"
       ]
      },
      {
       "output_type": "stream",
       "stream": "stdout",
       "text": [
        "\r",
        "                                                                                                      \r",
        "[SLC] DBG:                     +0:00:43 ======____[38%]___ -0:01:11  ROI 12248 (220/577), 123 features"
       ]
      },
      {
       "output_type": "stream",
       "stream": "stdout",
       "text": [
        "\r",
        "                                                                                                      \r",
        "[SLC] DBG:                     +0:00:44 ======____[38%]___ -0:01:11  ROI 12250 (221/577), 123 features"
       ]
      },
      {
       "output_type": "stream",
       "stream": "stdout",
       "text": [
        "\r",
        "                                                                                                      \r",
        "[SLC] DBG:                     +0:00:44 ======____[38%]___ -0:01:10  ROI 12251 (222/577), 123 features"
       ]
      },
      {
       "output_type": "stream",
       "stream": "stdout",
       "text": [
        "\r",
        "                                                                                                      \r",
        "[SLC] DBG:                     +0:00:44 ======____[39%]___ -0:01:10  ROI 12289 (223/577), 123 features"
       ]
      },
      {
       "output_type": "stream",
       "stream": "stdout",
       "text": [
        "\r",
        "                                                                                                      \r",
        "[SLC] DBG:                     +0:00:44 ======____[39%]___ -0:01:10  ROI 12290 (224/577), 123 features"
       ]
      },
      {
       "output_type": "stream",
       "stream": "stdout",
       "text": [
        "\r",
        "                                                                                                      \r",
        "[SLC] DBG:                     +0:00:44 =======____[39%]__ -0:01:10  ROI 12330 (225/577), 123 features"
       ]
      },
      {
       "output_type": "stream",
       "stream": "stdout",
       "text": [
        "\r",
        "                                                                                                      \r",
        "[SLC] DBG:                     +0:00:45 =======____[39%]__ -0:01:09  ROI 12367 (226/577), 123 features"
       ]
      },
      {
       "output_type": "stream",
       "stream": "stdout",
       "text": [
        "\r",
        "                                                                                                      \r",
        "[SLC] DBG:                     +0:00:45 =======____[39%]__ -0:01:09  ROI 12405 (227/577), 123 features"
       ]
      },
      {
       "output_type": "stream",
       "stream": "stdout",
       "text": [
        "\r",
        "                                                                                                      \r",
        "[SLC] DBG:                     +0:00:45 =======____[40%]__ -0:01:09  ROI 12445 (228/577), 123 features"
       ]
      },
      {
       "output_type": "stream",
       "stream": "stdout",
       "text": [
        "\r",
        "                                                                                                      \r",
        "[SLC] DBG:                     +0:00:45 =======____[40%]__ -0:01:09  ROI 12480 (229/577), 123 features"
       ]
      },
      {
       "output_type": "stream",
       "stream": "stdout",
       "text": [
        "\r",
        "                                                                                                      \r",
        "[SLC] DBG:                     +0:00:45 =======____[40%]__ -0:01:09  ROI 12516 (230/577), 123 features"
       ]
      },
      {
       "output_type": "stream",
       "stream": "stdout",
       "text": [
        "\r",
        "                                                                                                      \r",
        "[SLC] DBG:                     +0:00:45 =======____[40%]__ -0:01:08  ROI 13402 (231/577), 123 features"
       ]
      },
      {
       "output_type": "stream",
       "stream": "stdout",
       "text": [
        "\r",
        "                                                                                                      \r",
        "[SLC] DBG:                     +0:00:46 =======____[40%]__ -0:01:08  ROI 13403 (232/577), 123 features"
       ]
      },
      {
       "output_type": "stream",
       "stream": "stdout",
       "text": [
        "\r",
        "                                                                                                      \r",
        "[SLC] DBG:                     +0:00:46 =======____[40%]__ -0:01:08  ROI 13404 (233/577), 123 features"
       ]
      },
      {
       "output_type": "stream",
       "stream": "stdout",
       "text": [
        "\r",
        "                                                                                                      \r",
        "[SLC] DBG:                     +0:00:46 =======____[41%]__ -0:01:08  ROI 13441 (234/577), 123 features"
       ]
      },
      {
       "output_type": "stream",
       "stream": "stdout",
       "text": [
        "\r",
        "                                                                                                      \r",
        "[SLC] DBG:                     +0:00:46 =======____[41%]__ -0:01:07  ROI 13480 (235/577), 123 features"
       ]
      },
      {
       "output_type": "stream",
       "stream": "stdout",
       "text": [
        "\r",
        "                                                                                                      \r",
        "[SLC] DBG:                     +0:00:46 =======____[41%]__ -0:01:07  ROI 13481 (236/577), 123 features"
       ]
      },
      {
       "output_type": "stream",
       "stream": "stdout",
       "text": [
        "\r",
        "                                                                                                      \r",
        "[SLC] DBG:                     +0:00:47 =======____[41%]__ -0:01:07  ROI 13482 (237/577), 123 features"
       ]
      },
      {
       "output_type": "stream",
       "stream": "stdout",
       "text": [
        "\r",
        "                                                                                                      \r",
        "[SLC] DBG:                     +0:00:47 =======____[41%]__ -0:01:07  ROI 13484 (238/577), 123 features"
       ]
      },
      {
       "output_type": "stream",
       "stream": "stdout",
       "text": [
        "\r",
        "                                                                                                      \r",
        "[SLC] DBG:                     +0:00:47 =======____[41%]__ -0:01:07  ROI 13519 (239/577), 123 features"
       ]
      },
      {
       "output_type": "stream",
       "stream": "stdout",
       "text": [
        "\r",
        "                                                                                                      \r",
        "[SLC] DBG:                     +0:00:47 =======____[42%]__ -0:01:06  ROI 13520 (240/577), 123 features"
       ]
      },
      {
       "output_type": "stream",
       "stream": "stdout",
       "text": [
        "\r",
        "                                                                                                      \r",
        "[SLC] DBG:                     +0:00:47 =======____[42%]__ -0:01:06  ROI 13521 (241/577), 123 features"
       ]
      },
      {
       "output_type": "stream",
       "stream": "stdout",
       "text": [
        "\r",
        "                                                                                                      \r",
        "[SLC] DBG:                     +0:00:47 =======____[42%]__ -0:01:06  ROI 13523 (242/577), 123 features"
       ]
      },
      {
       "output_type": "stream",
       "stream": "stdout",
       "text": [
        "\r",
        "                                                                                                      \r",
        "[SLC] DBG:                     +0:00:48 =======____[42%]__ -0:01:06  ROI 13524 (243/577), 123 features"
       ]
      },
      {
       "output_type": "stream",
       "stream": "stdout",
       "text": [
        "\r",
        "                                                                                                      \r",
        "[SLC] DBG:                     +0:00:48 =======____[42%]__ -0:01:05  ROI 13560 (244/577), 123 features"
       ]
      },
      {
       "output_type": "stream",
       "stream": "stdout",
       "text": [
        "\r",
        "                                                                                                      \r",
        "[SLC] DBG:                     +0:00:48 =======____[42%]__ -0:01:05  ROI 13561 (245/577), 123 features"
       ]
      },
      {
       "output_type": "stream",
       "stream": "stdout",
       "text": [
        "\r",
        "                                                                                                      \r",
        "[SLC] DBG:                     +0:00:48 =======____[43%]__ -0:01:05  ROI 13563 (246/577), 123 features"
       ]
      },
      {
       "output_type": "stream",
       "stream": "stdout",
       "text": [
        "\r",
        "                                                                                                      \r",
        "[SLC] DBG:                     +0:00:48 =======____[43%]__ -0:01:05  ROI 13600 (247/577), 123 features"
       ]
      },
      {
       "output_type": "stream",
       "stream": "stdout",
       "text": [
        "\r",
        "                                                                                                      \r",
        "[SLC] DBG:                     +0:00:49 =======____[43%]__ -0:01:05  ROI 13602 (248/577), 123 features"
       ]
      },
      {
       "output_type": "stream",
       "stream": "stdout",
       "text": [
        "\r",
        "                                                                                                      \r",
        "[SLC] DBG:                     +0:00:49 =======____[43%]__ -0:01:04  ROI 13640 (249/577), 123 features"
       ]
      },
      {
       "output_type": "stream",
       "stream": "stdout",
       "text": [
        "\r",
        "                                                                                                      \r",
        "[SLC] DBG:                     +0:00:49 =======____[43%]__ -0:01:04  ROI 13760 (250/577), 123 features"
       ]
      },
      {
       "output_type": "stream",
       "stream": "stdout",
       "text": [
        "\r",
        "                                                                                                      \r",
        "[SLC] DBG:                     +0:00:49 =======____[44%]__ -0:01:04  ROI 14740 (251/577), 123 features"
       ]
      },
      {
       "output_type": "stream",
       "stream": "stdout",
       "text": [
        "\r",
        "                                                                                                      \r",
        "[SLC] DBG:                     +0:00:49 =======____[44%]__ -0:01:04  ROI 14778 (252/577), 123 features"
       ]
      },
      {
       "output_type": "stream",
       "stream": "stdout",
       "text": [
        "\r",
        "                                                                                                      \r",
        "[SLC] DBG:                     +0:00:49 =======____[44%]__ -0:01:03  ROI 14779 (253/577), 123 features"
       ]
      },
      {
       "output_type": "stream",
       "stream": "stdout",
       "text": [
        "\r",
        "                                                                                                      \r",
        "[SLC] DBG:                     +0:00:50 =======____[44%]__ -0:01:03  ROI 14816 (254/577), 123 features"
       ]
      },
      {
       "output_type": "stream",
       "stream": "stdout",
       "text": [
        "\r",
        "                                                                                                      \r",
        "[SLC] DBG:                     +0:00:50 =======____[44%]__ -0:01:03  ROI 14817 (255/577), 123 features"
       ]
      },
      {
       "output_type": "stream",
       "stream": "stdout",
       "text": [
        "\r",
        "                                                                                                      \r",
        "[SLC] DBG:                     +0:00:50 =======____[44%]__ -0:01:03  ROI 14856 (256/577), 123 features"
       ]
      },
      {
       "output_type": "stream",
       "stream": "stdout",
       "text": [
        "\r",
        "                                                                                                      \r",
        "[SLC] DBG:                     +0:00:50 ========___[45%]__ -0:01:03  ROI 14859 (257/577), 123 features"
       ]
      },
      {
       "output_type": "stream",
       "stream": "stdout",
       "text": [
        "\r",
        "                                                                                                      \r",
        "[SLC] DBG:                     +0:00:50 ========___[45%]__ -0:01:02  ROI 14895 (258/577), 123 features"
       ]
      },
      {
       "output_type": "stream",
       "stream": "stdout",
       "text": [
        "\r",
        "                                                                                                      \r",
        "[SLC] DBG:                     +0:00:51 ========___[45%]__ -0:01:02  ROI 14896 (259/577), 123 features"
       ]
      },
      {
       "output_type": "stream",
       "stream": "stdout",
       "text": [
        "\r",
        "                                                                                                      \r",
        "[SLC] DBG:                     +0:00:51 ========___[45%]__ -0:01:02  ROI 14898 (260/577), 123 features"
       ]
      },
      {
       "output_type": "stream",
       "stream": "stdout",
       "text": [
        "\r",
        "                                                                                                      \r",
        "[SLC] DBG:                     +0:00:51 ========___[45%]__ -0:01:02  ROI 14899 (261/577), 123 features"
       ]
      },
      {
       "output_type": "stream",
       "stream": "stdout",
       "text": [
        "\r",
        "                                                                                                      \r",
        "[SLC] DBG:                     +0:00:51 ========___[45%]__ -0:01:01  ROI 14936 (262/577), 123 features"
       ]
      },
      {
       "output_type": "stream",
       "stream": "stdout",
       "text": [
        "\r",
        "                                                                                                      \r",
        "[SLC] DBG:                     +0:00:51 ========___[46%]__ -0:01:01  ROI 14977 (263/577), 123 features"
       ]
      },
      {
       "output_type": "stream",
       "stream": "stdout",
       "text": [
        "\r",
        "                                                                                                      \r",
        "[SLC] DBG:                     +0:00:51 ========___[46%]__ -0:01:01  ROI 15016 (264/577), 123 features"
       ]
      },
      {
       "output_type": "stream",
       "stream": "stdout",
       "text": [
        "\r",
        "                                                                                                      \r",
        "[SLC] DBG:                     +0:00:52 ========___[46%]__ -0:01:01  ROI 15017 (265/577), 123 features"
       ]
      },
      {
       "output_type": "stream",
       "stream": "stdout",
       "text": [
        "\r",
        "                                                                                                      \r",
        "[SLC] DBG:                     +0:00:52 ========___[46%]__ -0:01:01  ROI 15019 (266/577), 123 features"
       ]
      },
      {
       "output_type": "stream",
       "stream": "stdout",
       "text": [
        "\r",
        "                                                                                                      \r",
        "[SLC] DBG:                     +0:00:52 ========___[46%]__ -0:01:00  ROI 15057 (267/577), 123 features"
       ]
      },
      {
       "output_type": "stream",
       "stream": "stdout",
       "text": [
        "\r",
        "                                                                                                      \r",
        "[SLC] DBG:                     +0:00:52 ========___[46%]__ -0:01:00  ROI 16134 (268/577), 123 features"
       ]
      },
      {
       "output_type": "stream",
       "stream": "stdout",
       "text": [
        "\r",
        "                                                                                                      \r",
        "[SLC] DBG:                     +0:00:52 ========___[47%]__ -0:01:00  ROI 16173 (269/577), 123 features"
       ]
      },
      {
       "output_type": "stream",
       "stream": "stdout",
       "text": [
        "\r",
        "                                                                                                      \r",
        "[SLC] DBG:                     +0:00:53 ========___[47%]__ -0:01:00  ROI 16293 (270/577), 123 features"
       ]
      },
      {
       "output_type": "stream",
       "stream": "stdout",
       "text": [
        "\r",
        "                                                                                                      \r",
        "[SLC] DBG:                     +0:00:53 ========___[47%]__ -0:01:00  ROI 16333 (271/577), 123 features"
       ]
      },
      {
       "output_type": "stream",
       "stream": "stdout",
       "text": [
        "\r",
        "                                                                                                      \r",
        "[SLC] DBG:                     +0:00:53 ========___[47%]__ -0:00:59  ROI 16373 (272/577), 123 features"
       ]
      },
      {
       "output_type": "stream",
       "stream": "stdout",
       "text": [
        "\r",
        "                                                                                                      \r",
        "[SLC] DBG:                     +0:00:53 ========___[47%]__ -0:00:59  ROI 16374 (273/577), 123 features"
       ]
      },
      {
       "output_type": "stream",
       "stream": "stdout",
       "text": [
        "\r",
        "                                                                                                      \r",
        "[SLC] DBG:                     +0:00:53 ========___[47%]__ -0:00:59  ROI 16414 (274/577), 123 features"
       ]
      },
      {
       "output_type": "stream",
       "stream": "stdout",
       "text": [
        "\r",
        "                                                                                                      \r",
        "[SLC] DBG:                     +0:00:53 ========___[48%]__ -0:00:59  ROI 16415 (275/577), 123 features"
       ]
      },
      {
       "output_type": "stream",
       "stream": "stdout",
       "text": [
        "\r",
        "                                                                                                      \r",
        "[SLC] DBG:                     +0:00:54 ========___[48%]__ -0:00:59  ROI 17539 (276/577), 123 features"
       ]
      },
      {
       "output_type": "stream",
       "stream": "stdout",
       "text": [
        "\r",
        "                                                                                                      \r",
        "[SLC] DBG:                     +0:00:54 ========___[48%]__ -0:00:58  ROI 17541 (277/577), 123 features"
       ]
      },
      {
       "output_type": "stream",
       "stream": "stdout",
       "text": [
        "\r",
        "                                                                                                      \r",
        "[SLC] DBG:                     +0:00:54 ========___[48%]__ -0:00:58  ROI 17579 (278/577), 123 features"
       ]
      },
      {
       "output_type": "stream",
       "stream": "stdout",
       "text": [
        "\r",
        "                                                                                                      \r",
        "[SLC] DBG:                     +0:00:54 ========___[48%]__ -0:00:58  ROI 17615 (279/577), 123 features"
       ]
      },
      {
       "output_type": "stream",
       "stream": "stdout",
       "text": [
        "\r",
        "                                                                                                      \r",
        "[SLC] DBG:                     +0:00:54 ========___[49%]__ -0:00:58  ROI 17694 (280/577), 123 features"
       ]
      },
      {
       "output_type": "stream",
       "stream": "stdout",
       "text": [
        "\r",
        "                                                                                                      \r",
        "[SLC] DBG:                     +0:00:55 ========___[49%]__ -0:00:57  ROI 18948 (281/577), 123 features"
       ]
      },
      {
       "output_type": "stream",
       "stream": "stdout",
       "text": [
        "\r",
        "                                                                                                      \r",
        "[SLC] DBG:                     +0:00:55 ========___[49%]__ -0:00:57  ROI 18986 (282/577), 123 features"
       ]
      },
      {
       "output_type": "stream",
       "stream": "stdout",
       "text": [
        "\r",
        "                                                                                                      \r",
        "[SLC] DBG:                     +0:00:55 ========___[49%]__ -0:00:57  ROI 21765 (283/577), 123 features"
       ]
      },
      {
       "output_type": "stream",
       "stream": "stdout",
       "text": [
        "\r",
        "                                                                                                      \r",
        "[SLC] DBG:                     +0:00:55 ========___[49%]__ -0:00:57  ROI 21920 (284/577), 123 features"
       ]
      },
      {
       "output_type": "stream",
       "stream": "stdout",
       "text": [
        "\r",
        "                                                                                                      \r",
        "[SLC] DBG:                     +0:00:55 ========___[49%]__ -0:00:57  ROI 23106 (285/577), 123 features"
       ]
      },
      {
       "output_type": "stream",
       "stream": "stdout",
       "text": [
        "\r",
        "                                                                                                      \r",
        "[SLC] DBG:                     +0:00:55 ========___[50%]__ -0:00:56  ROI 23145 (286/577), 123 features"
       ]
      },
      {
       "output_type": "stream",
       "stream": "stdout",
       "text": [
        "\r",
        "                                                                                                      \r",
        "[SLC] DBG:                     +0:00:56 ========___[50%]__ -0:00:56  ROI 23184 (287/577), 123 features"
       ]
      },
      {
       "output_type": "stream",
       "stream": "stdout",
       "text": [
        "\r",
        "                                                                                                      \r",
        "[SLC] DBG:                     +0:00:56 ========___[50%]__ -0:00:56  ROI 23222 (288/577), 123 features"
       ]
      },
      {
       "output_type": "stream",
       "stream": "stdout",
       "text": [
        "\r",
        "                                                                                                      \r",
        "[SLC] DBG:                     +0:00:56 ==[50%]==_________ -0:00:56  ROI 23260 (289/577), 123 features"
       ]
      },
      {
       "output_type": "stream",
       "stream": "stdout",
       "text": [
        "\r",
        "                                                                                                      \r",
        "[SLC] DBG:                     +0:00:56 ==[50%]==_________ -0:00:56  ROI 23261 (290/577), 123 features"
       ]
      },
      {
       "output_type": "stream",
       "stream": "stdout",
       "text": [
        "\r",
        "                                                                                                      \r",
        "[SLC] DBG:                     +0:00:56 ==[50%]==_________ -0:00:55  ROI 23262 (291/577), 123 features"
       ]
      },
      {
       "output_type": "stream",
       "stream": "stdout",
       "text": [
        "\r",
        "                                                                                                      \r",
        "[SLC] DBG:                     +0:00:57 ==[51%]==_________ -0:00:55  ROI 23301 (292/577), 123 features"
       ]
      },
      {
       "output_type": "stream",
       "stream": "stdout",
       "text": [
        "\r",
        "                                                                                                      \r",
        "[SLC] DBG:                     +0:00:57 ==[51%]==_________ -0:00:55  ROI 24597 (293/577), 123 features"
       ]
      },
      {
       "output_type": "stream",
       "stream": "stdout",
       "text": [
        "\r",
        "                                                                                                      \r",
        "[SLC] DBG:                     +0:00:57 ==[51%]==_________ -0:00:55  ROI 24635 (294/577), 123 features"
       ]
      },
      {
       "output_type": "stream",
       "stream": "stdout",
       "text": [
        "\r",
        "                                                                                                      \r",
        "[SLC] DBG:                     +0:00:57 ==[51%]==_________ -0:00:55  ROI 24636 (295/577), 123 features"
       ]
      },
      {
       "output_type": "stream",
       "stream": "stdout",
       "text": [
        "\r",
        "                                                                                                      \r",
        "[SLC] DBG:                     +0:00:57 ==[51%]==_________ -0:00:54  ROI 24675 (296/577), 123 features"
       ]
      },
      {
       "output_type": "stream",
       "stream": "stdout",
       "text": [
        "\r",
        "                                                                                                      \r",
        "[SLC] DBG:                     +0:00:57 ==[51%]==_________ -0:00:54  ROI 24676 (297/577), 123 features"
       ]
      },
      {
       "output_type": "stream",
       "stream": "stdout",
       "text": [
        "\r",
        "                                                                                                      \r",
        "[SLC] DBG:                     +0:00:58 ==[52%]==_________ -0:00:54  ROI 24716 (298/577), 123 features"
       ]
      },
      {
       "output_type": "stream",
       "stream": "stdout",
       "text": [
        "\r",
        "                                                                                                      \r",
        "[SLC] DBG:                     +0:00:58 ==[52%]==_________ -0:00:54  ROI 24759 (299/577), 123 features"
       ]
      },
      {
       "output_type": "stream",
       "stream": "stdout",
       "text": [
        "\r",
        "                                                                                                      \r",
        "[SLC] DBG:                     +0:00:58 ==[52%]==_________ -0:00:54  ROI 25844 (300/577), 123 features"
       ]
      },
      {
       "output_type": "stream",
       "stream": "stdout",
       "text": [
        "\r",
        "                                                                                                      \r",
        "[SLC] DBG:                     +0:00:58 ==[52%]==_________ -0:00:53  ROI 25881 (301/577), 123 features"
       ]
      },
      {
       "output_type": "stream",
       "stream": "stdout",
       "text": [
        "\r",
        "                                                                                                      \r",
        "[SLC] DBG:                     +0:00:58 ==[52%]==_________ -0:00:53  ROI 25920 (302/577), 123 features"
       ]
      },
      {
       "output_type": "stream",
       "stream": "stdout",
       "text": [
        "\r",
        "                                                                                                      \r",
        "[SLC] DBG:                     +0:00:59 ==[53%]==_________ -0:00:53  ROI 25923 (303/577), 123 features"
       ]
      },
      {
       "output_type": "stream",
       "stream": "stdout",
       "text": [
        "\r",
        "                                                                                                      \r",
        "[SLC] DBG:                     +0:00:59 ==[53%]==_________ -0:00:53  ROI 25961 (304/577), 123 features"
       ]
      },
      {
       "output_type": "stream",
       "stream": "stdout",
       "text": [
        "\r",
        "                                                                                                      \r",
        "[SLC] DBG:                     +0:00:59 ==[53%]==_________ -0:00:53  ROI 25962 (305/577), 123 features"
       ]
      },
      {
       "output_type": "stream",
       "stream": "stdout",
       "text": [
        "\r",
        "                                                                                                      \r",
        "[SLC] DBG:                     +0:00:59 ==[53%]==_________ -0:00:52  ROI 26000 (306/577), 123 features"
       ]
      },
      {
       "output_type": "stream",
       "stream": "stdout",
       "text": [
        "\r",
        "                                                                                                      \r",
        "[SLC] DBG:                     +0:00:59 ==[53%]==_________ -0:00:52  ROI 26001 (307/577), 123 features"
       ]
      },
      {
       "output_type": "stream",
       "stream": "stdout",
       "text": [
        "\r",
        "                                                                                                      \r",
        "[SLC] DBG:                     +0:00:59 ==[53%]==_________ -0:00:52  ROI 26039 (308/577), 123 features"
       ]
      },
      {
       "output_type": "stream",
       "stream": "stdout",
       "text": [
        "\r",
        "                                                                                                      \r",
        "[SLC] DBG:                     +0:01:00 ==[54%]==_________ -0:00:52  ROI 26076 (309/577), 123 features"
       ]
      },
      {
       "output_type": "stream",
       "stream": "stdout",
       "text": [
        "\r",
        "                                                                                                      \r",
        "[SLC] DBG:                     +0:01:00 ==[54%]==_________ -0:00:51  ROI 26078 (310/577), 123 features"
       ]
      },
      {
       "output_type": "stream",
       "stream": "stdout",
       "text": [
        "\r",
        "                                                                                                      \r",
        "[SLC] DBG:                     +0:01:00 ==[54%]==_________ -0:00:51  ROI 26079 (311/577), 123 features"
       ]
      },
      {
       "output_type": "stream",
       "stream": "stdout",
       "text": [
        "\r",
        "                                                                                                      \r",
        "[SLC] DBG:                     +0:01:00 ==[54%]==_________ -0:00:51  ROI 26119 (312/577), 123 features"
       ]
      },
      {
       "output_type": "stream",
       "stream": "stdout",
       "text": [
        "\r",
        "                                                                                                      \r",
        "[SLC] DBG:                     +0:01:00 ==[54%]==_________ -0:00:51  ROI 26243 (313/577), 123 features"
       ]
      },
      {
       "output_type": "stream",
       "stream": "stdout",
       "text": [
        "\r",
        "                                                                                                      \r",
        "[SLC] DBG:                     +0:01:01 ==[54%]==_________ -0:00:51  ROI 27189 (314/577), 123 features"
       ]
      },
      {
       "output_type": "stream",
       "stream": "stdout",
       "text": [
        "\r",
        "                                                                                                      \r",
        "[SLC] DBG:                     +0:01:01 ==[55%]==_________ -0:00:50  ROI 27190 (315/577), 123 features"
       ]
      },
      {
       "output_type": "stream",
       "stream": "stdout",
       "text": [
        "\r",
        "                                                                                                      \r",
        "[SLC] DBG:                     +0:01:01 ==[55%]==_________ -0:00:50  ROI 27226 (316/577), 123 features"
       ]
      },
      {
       "output_type": "stream",
       "stream": "stdout",
       "text": [
        "\r",
        "                                                                                                      \r",
        "[SLC] DBG:                     +0:01:01 ==[55%]==_________ -0:00:50  ROI 27303 (317/577), 123 features"
       ]
      },
      {
       "output_type": "stream",
       "stream": "stdout",
       "text": [
        "\r",
        "                                                                                                      \r",
        "[SLC] DBG:                     +0:01:01 ==[55%]==_________ -0:00:50  ROI 27304 (318/577), 123 features"
       ]
      },
      {
       "output_type": "stream",
       "stream": "stdout",
       "text": [
        "\r",
        "                                                                                                      \r",
        "[SLC] DBG:                     +0:01:01 ==[55%]==_________ -0:00:50  ROI 27341 (319/577), 123 features"
       ]
      },
      {
       "output_type": "stream",
       "stream": "stdout",
       "text": [
        "\r",
        "                                                                                                      \r",
        "[SLC] DBG:                     +0:01:02 ==[55%]==_________ -0:00:49  ROI 27342 (320/577), 123 features"
       ]
      },
      {
       "output_type": "stream",
       "stream": "stdout",
       "text": [
        "\r",
        "                                                                                                      \r",
        "[SLC] DBG:                     +0:01:02 ===[56%]==________ -0:00:49  ROI 27380 (321/577), 123 features"
       ]
      },
      {
       "output_type": "stream",
       "stream": "stdout",
       "text": [
        "\r",
        "                                                                                                      \r",
        "[SLC] DBG:                     +0:01:02 ===[56%]==________ -0:00:49  ROI 27457 (322/577), 123 features"
       ]
      },
      {
       "output_type": "stream",
       "stream": "stdout",
       "text": [
        "\r",
        "                                                                                                      \r",
        "[SLC] DBG:                     +0:01:02 ===[56%]==________ -0:00:49  ROI 27540 (323/577), 123 features"
       ]
      },
      {
       "output_type": "stream",
       "stream": "stdout",
       "text": [
        "\r",
        "                                                                                                      \r",
        "[SLC] DBG:                     +0:01:02 ===[56%]==________ -0:00:49  ROI 27583 (324/577), 123 features"
       ]
      },
      {
       "output_type": "stream",
       "stream": "stdout",
       "text": [
        "\r",
        "                                                                                                      \r",
        "[SLC] DBG:                     +0:01:03 ===[56%]==________ -0:00:48  ROI 28501 (325/577), 123 features"
       ]
      },
      {
       "output_type": "stream",
       "stream": "stdout",
       "text": [
        "\r",
        "                                                                                                      \r",
        "[SLC] DBG:                     +0:01:03 ===[56%]==________ -0:00:48  ROI 28539 (326/577), 123 features"
       ]
      },
      {
       "output_type": "stream",
       "stream": "stdout",
       "text": [
        "\r",
        "                                                                                                      \r",
        "[SLC] DBG:                     +0:01:03 ===[57%]==________ -0:00:48  ROI 28576 (327/577), 123 features"
       ]
      },
      {
       "output_type": "stream",
       "stream": "stdout",
       "text": [
        "\r",
        "                                                                                                      \r",
        "[SLC] DBG:                     +0:01:03 ===[57%]==________ -0:00:48  ROI 28577 (328/577), 123 features"
       ]
      },
      {
       "output_type": "stream",
       "stream": "stdout",
       "text": [
        "\r",
        "                                                                                                      \r",
        "[SLC] DBG:                     +0:01:03 ===[57%]==________ -0:00:48  ROI 28614 (329/577), 123 features"
       ]
      },
      {
       "output_type": "stream",
       "stream": "stdout",
       "text": [
        "\r",
        "                                                                                                      \r",
        "[SLC] DBG:                     +0:01:03 ===[57%]==________ -0:00:47  ROI 28615 (330/577), 123 features"
       ]
      },
      {
       "output_type": "stream",
       "stream": "stdout",
       "text": [
        "\r",
        "                                                                                                      \r",
        "[SLC] DBG:                     +0:01:04 ===[57%]==________ -0:00:47  ROI 28652 (331/577), 123 features"
       ]
      },
      {
       "output_type": "stream",
       "stream": "stdout",
       "text": [
        "\r",
        "                                                                                                      \r",
        "[SLC] DBG:                     +0:01:04 ===[58%]==________ -0:00:47  ROI 28653 (332/577), 123 features"
       ]
      },
      {
       "output_type": "stream",
       "stream": "stdout",
       "text": [
        "\r",
        "                                                                                                      \r",
        "[SLC] DBG:                     +0:01:04 ===[58%]==________ -0:00:47  ROI 28654 (333/577), 123 features"
       ]
      },
      {
       "output_type": "stream",
       "stream": "stdout",
       "text": [
        "\r",
        "                                                                                                      \r",
        "[SLC] DBG:                     +0:01:04 ===[58%]==________ -0:00:47  ROI 28655 (334/577), 123 features"
       ]
      },
      {
       "output_type": "stream",
       "stream": "stdout",
       "text": [
        "\r",
        "                                                                                                      \r",
        "[SLC] DBG:                     +0:01:04 ===[58%]==________ -0:00:46  ROI 28690 (335/577), 123 features"
       ]
      },
      {
       "output_type": "stream",
       "stream": "stdout",
       "text": [
        "\r",
        "                                                                                                      \r",
        "[SLC] DBG:                     +0:01:05 ===[58%]==________ -0:00:46  ROI 28691 (336/577), 123 features"
       ]
      },
      {
       "output_type": "stream",
       "stream": "stdout",
       "text": [
        "\r",
        "                                                                                                      \r",
        "[SLC] DBG:                     +0:01:05 ===[58%]==________ -0:00:46  ROI 28692 (337/577), 123 features"
       ]
      },
      {
       "output_type": "stream",
       "stream": "stdout",
       "text": [
        "\r",
        "                                                                                                      \r",
        "[SLC] DBG:                     +0:01:05 ===[59%]==________ -0:00:46  ROI 28693 (338/577), 123 features"
       ]
      },
      {
       "output_type": "stream",
       "stream": "stdout",
       "text": [
        "\r",
        "                                                                                                      \r",
        "[SLC] DBG:                     +0:01:05 ===[59%]==________ -0:00:46  ROI 28728 (339/577), 123 features"
       ]
      },
      {
       "output_type": "stream",
       "stream": "stdout",
       "text": [
        "\r",
        "                                                                                                      \r",
        "[SLC] DBG:                     +0:01:05 ===[59%]==________ -0:00:45  ROI 28729 (340/577), 123 features"
       ]
      },
      {
       "output_type": "stream",
       "stream": "stdout",
       "text": [
        "\r",
        "                                                                                                      \r",
        "[SLC] DBG:                     +0:01:05 ===[59%]==________ -0:00:45  ROI 28730 (341/577), 123 features"
       ]
      },
      {
       "output_type": "stream",
       "stream": "stdout",
       "text": [
        "\r",
        "                                                                                                      \r",
        "[SLC] DBG:                     +0:01:06 ===[59%]==________ -0:00:45  ROI 28731 (342/577), 123 features"
       ]
      },
      {
       "output_type": "stream",
       "stream": "stdout",
       "text": [
        "\r",
        "                                                                                                      \r",
        "[SLC] DBG:                     +0:01:06 ===[59%]==________ -0:00:45  ROI 28732 (343/577), 123 features"
       ]
      },
      {
       "output_type": "stream",
       "stream": "stdout",
       "text": [
        "\r",
        "                                                                                                      \r",
        "[SLC] DBG:                     +0:01:06 ===[60%]==________ -0:00:45  ROI 28767 (344/577), 123 features"
       ]
      },
      {
       "output_type": "stream",
       "stream": "stdout",
       "text": [
        "\r",
        "                                                                                                      \r",
        "[SLC] DBG:                     +0:01:06 ===[60%]==________ -0:00:44  ROI 28768 (345/577), 123 features"
       ]
      },
      {
       "output_type": "stream",
       "stream": "stdout",
       "text": [
        "\r",
        "                                                                                                      \r",
        "[SLC] DBG:                     +0:01:06 ===[60%]==________ -0:00:44  ROI 28769 (346/577), 123 features"
       ]
      },
      {
       "output_type": "stream",
       "stream": "stdout",
       "text": [
        "\r",
        "                                                                                                      \r",
        "[SLC] DBG:                     +0:01:06 ===[60%]==________ -0:00:44  ROI 28804 (347/577), 123 features"
       ]
      },
      {
       "output_type": "stream",
       "stream": "stdout",
       "text": [
        "\r",
        "                                                                                                      \r",
        "[SLC] DBG:                     +0:01:07 ===[60%]==________ -0:00:44  ROI 28805 (348/577), 123 features"
       ]
      },
      {
       "output_type": "stream",
       "stream": "stdout",
       "text": [
        "\r",
        "                                                                                                      \r",
        "[SLC] DBG:                     +0:01:07 ===[60%]==________ -0:00:43  ROI 28807 (349/577), 123 features"
       ]
      },
      {
       "output_type": "stream",
       "stream": "stdout",
       "text": [
        "\r",
        "                                                                                                      \r",
        "[SLC] DBG:                     +0:01:07 ===[61%]==________ -0:00:43  ROI 28843 (350/577), 123 features"
       ]
      },
      {
       "output_type": "stream",
       "stream": "stdout",
       "text": [
        "\r",
        "                                                                                                      \r",
        "[SLC] DBG:                     +0:01:07 ===[61%]==________ -0:00:43  ROI 28844 (351/577), 123 features"
       ]
      },
      {
       "output_type": "stream",
       "stream": "stdout",
       "text": [
        "\r",
        "                                                                                                      \r",
        "[SLC] DBG:                     +0:01:07 ===[61%]==________ -0:00:43  ROI 28845 (352/577), 123 features"
       ]
      },
      {
       "output_type": "stream",
       "stream": "stdout",
       "text": [
        "\r",
        "                                                                                                      \r",
        "[SLC] DBG:                     +0:01:08 ===[61%]===_______ -0:00:43  ROI 28847 (353/577), 123 features"
       ]
      },
      {
       "output_type": "stream",
       "stream": "stdout",
       "text": [
        "\r",
        "                                                                                                      \r",
        "[SLC] DBG:                     +0:01:08 ===[61%]===_______ -0:00:42  ROI 28884 (354/577), 123 features"
       ]
      },
      {
       "output_type": "stream",
       "stream": "stdout",
       "text": [
        "\r",
        "                                                                                                      \r",
        "[SLC] DBG:                     +0:01:08 ===[62%]===_______ -0:00:42  ROI 29768 (355/577), 123 features"
       ]
      },
      {
       "output_type": "stream",
       "stream": "stdout",
       "text": [
        "\r",
        "                                                                                                      \r",
        "[SLC] DBG:                     +0:01:08 ===[62%]===_______ -0:00:42  ROI 29770 (356/577), 123 features"
       ]
      },
      {
       "output_type": "stream",
       "stream": "stdout",
       "text": [
        "\r",
        "                                                                                                      \r",
        "[SLC] DBG:                     +0:01:08 ===[62%]===_______ -0:00:42  ROI 29841 (357/577), 123 features"
       ]
      },
      {
       "output_type": "stream",
       "stream": "stdout",
       "text": [
        "\r",
        "                                                                                                      \r",
        "[SLC] DBG:                     +0:01:08 ===[62%]===_______ -0:00:42  ROI 29842 (358/577), 123 features"
       ]
      },
      {
       "output_type": "stream",
       "stream": "stdout",
       "text": [
        "\r",
        "                                                                                                      \r",
        "[SLC] DBG:                     +0:01:09 ===[62%]===_______ -0:00:41  ROI 29843 (359/577), 123 features"
       ]
      },
      {
       "output_type": "stream",
       "stream": "stdout",
       "text": [
        "\r",
        "                                                                                                      \r",
        "[SLC] DBG:                     +0:01:09 ===[62%]===_______ -0:00:41  ROI 29878 (360/577), 123 features"
       ]
      },
      {
       "output_type": "stream",
       "stream": "stdout",
       "text": [
        "\r",
        "                                                                                                      \r",
        "[SLC] DBG:                     +0:01:09 ===[63%]===_______ -0:00:41  ROI 29879 (361/577), 123 features"
       ]
      },
      {
       "output_type": "stream",
       "stream": "stdout",
       "text": [
        "\r",
        "                                                                                                      \r",
        "[SLC] DBG:                     +0:01:09 ===[63%]===_______ -0:00:41  ROI 29880 (362/577), 123 features"
       ]
      },
      {
       "output_type": "stream",
       "stream": "stdout",
       "text": [
        "\r",
        "                                                                                                      \r",
        "[SLC] DBG:                     +0:01:09 ===[63%]===_______ -0:00:41  ROI 29916 (363/577), 123 features"
       ]
      },
      {
       "output_type": "stream",
       "stream": "stdout",
       "text": [
        "\r",
        "                                                                                                      \r",
        "[SLC] DBG:                     +0:01:10 ===[63%]===_______ -0:00:40  ROI 29917 (364/577), 123 features"
       ]
      },
      {
       "output_type": "stream",
       "stream": "stdout",
       "text": [
        "\r",
        "                                                                                                      \r",
        "[SLC] DBG:                     +0:01:10 ===[63%]===_______ -0:00:40  ROI 29918 (365/577), 123 features"
       ]
      },
      {
       "output_type": "stream",
       "stream": "stdout",
       "text": [
        "\r",
        "                                                                                                      \r",
        "[SLC] DBG:                     +0:01:10 ===[63%]===_______ -0:00:40  ROI 29919 (366/577), 123 features"
       ]
      },
      {
       "output_type": "stream",
       "stream": "stdout",
       "text": [
        "\r",
        "                                                                                                      \r",
        "[SLC] DBG:                     +0:01:10 ===[64%]===_______ -0:00:40  ROI 29954 (367/577), 123 features"
       ]
      },
      {
       "output_type": "stream",
       "stream": "stdout",
       "text": [
        "\r",
        "                                                                                                      \r",
        "[SLC] DBG:                     +0:01:10 ===[64%]===_______ -0:00:40  ROI 29955 (368/577), 123 features"
       ]
      },
      {
       "output_type": "stream",
       "stream": "stdout",
       "text": [
        "\r",
        "                                                                                                      \r",
        "[SLC] DBG:                     +0:01:10 ===[64%]===_______ -0:00:39  ROI 29957 (369/577), 123 features"
       ]
      },
      {
       "output_type": "stream",
       "stream": "stdout",
       "text": [
        "\r",
        "                                                                                                      \r",
        "[SLC] DBG:                     +0:01:11 ===[64%]===_______ -0:00:39  ROI 29993 (370/577), 123 features"
       ]
      },
      {
       "output_type": "stream",
       "stream": "stdout",
       "text": [
        "\r",
        "                                                                                                      \r",
        "[SLC] DBG:                     +0:01:11 ===[64%]===_______ -0:00:39  ROI 29995 (371/577), 123 features"
       ]
      },
      {
       "output_type": "stream",
       "stream": "stdout",
       "text": [
        "\r",
        "                                                                                                      \r",
        "[SLC] DBG:                     +0:01:11 ===[64%]===_______ -0:00:39  ROI 29996 (372/577), 123 features"
       ]
      },
      {
       "output_type": "stream",
       "stream": "stdout",
       "text": [
        "\r",
        "                                                                                                      \r",
        "[SLC] DBG:                     +0:01:11 ===[65%]===_______ -0:00:39  ROI 30030 (373/577), 123 features"
       ]
      },
      {
       "output_type": "stream",
       "stream": "stdout",
       "text": [
        "\r",
        "                                                                                                      \r",
        "[SLC] DBG:                     +0:01:11 ===[65%]===_______ -0:00:38  ROI 30031 (374/577), 123 features"
       ]
      },
      {
       "output_type": "stream",
       "stream": "stdout",
       "text": [
        "\r",
        "                                                                                                      \r",
        "[SLC] DBG:                     +0:01:12 ===[65%]===_______ -0:00:38  ROI 30032 (375/577), 123 features"
       ]
      },
      {
       "output_type": "stream",
       "stream": "stdout",
       "text": [
        "\r",
        "                                                                                                      \r",
        "[SLC] DBG:                     +0:01:12 ===[65%]===_______ -0:00:38  ROI 30033 (376/577), 123 features"
       ]
      },
      {
       "output_type": "stream",
       "stream": "stdout",
       "text": [
        "\r",
        "                                                                                                      \r",
        "[SLC] DBG:                     +0:01:12 ===[65%]===_______ -0:00:38  ROI 30034 (377/577), 123 features"
       ]
      },
      {
       "output_type": "stream",
       "stream": "stdout",
       "text": [
        "\r",
        "                                                                                                      \r",
        "[SLC] DBG:                     +0:01:12 ===[66%]===_______ -0:00:38  ROI 30068 (378/577), 123 features"
       ]
      },
      {
       "output_type": "stream",
       "stream": "stdout",
       "text": [
        "\r",
        "                                                                                                      \r",
        "[SLC] DBG:                     +0:01:12 ===[66%]===_______ -0:00:38  ROI 30069 (379/577), 123 features"
       ]
      },
      {
       "output_type": "stream",
       "stream": "stdout",
       "text": [
        "\r",
        "                                                                                                      \r",
        "[SLC] DBG:                     +0:01:12 ===[66%]===_______ -0:00:37  ROI 30070 (380/577), 123 features"
       ]
      },
      {
       "output_type": "stream",
       "stream": "stdout",
       "text": [
        "\r",
        "                                                                                                      \r",
        "[SLC] DBG:                     +0:01:13 ===[66%]===_______ -0:00:37  ROI 30071 (381/577), 123 features"
       ]
      },
      {
       "output_type": "stream",
       "stream": "stdout",
       "text": [
        "\r",
        "                                                                                                      \r",
        "[SLC] DBG:                     +0:01:13 ===[66%]===_______ -0:00:37  ROI 30105 (382/577), 123 features"
       ]
      },
      {
       "output_type": "stream",
       "stream": "stdout",
       "text": [
        "\r",
        "                                                                                                      \r",
        "[SLC] DBG:                     +0:01:13 ===[66%]===_______ -0:00:37  ROI 30106 (383/577), 123 features"
       ]
      },
      {
       "output_type": "stream",
       "stream": "stdout",
       "text": [
        "\r",
        "                                                                                                      \r",
        "[SLC] DBG:                     +0:01:13 ===[67%]===_______ -0:00:37  ROI 30107 (384/577), 123 features"
       ]
      },
      {
       "output_type": "stream",
       "stream": "stdout",
       "text": [
        "\r",
        "                                                                                                      \r",
        "[SLC] DBG:                     +0:01:13 ====[67%]===______ -0:00:36  ROI 30108 (385/577), 123 features"
       ]
      },
      {
       "output_type": "stream",
       "stream": "stdout",
       "text": [
        "\r",
        "                                                                                                      \r",
        "[SLC] DBG:                     +0:01:13 ====[67%]===______ -0:00:36  ROI 30143 (386/577), 123 features"
       ]
      },
      {
       "output_type": "stream",
       "stream": "stdout",
       "text": [
        "\r",
        "                                                                                                      \r",
        "[SLC] DBG:                     +0:01:14 ====[67%]===______ -0:00:36  ROI 30178 (387/577), 123 features"
       ]
      },
      {
       "output_type": "stream",
       "stream": "stdout",
       "text": [
        "\r",
        "                                                                                                      \r",
        "[SLC] DBG:                     +0:01:14 ====[67%]===______ -0:00:36  ROI 30989 (388/577), 123 features"
       ]
      },
      {
       "output_type": "stream",
       "stream": "stdout",
       "text": [
        "\r",
        "                                                                                                      \r",
        "[SLC] DBG:                     +0:01:14 ====[67%]===______ -0:00:36  ROI 30990 (389/577), 123 features"
       ]
      },
      {
       "output_type": "stream",
       "stream": "stdout",
       "text": [
        "\r",
        "                                                                                                      \r",
        "[SLC] DBG:                     +0:01:14 ====[68%]===______ -0:00:35  ROI 30991 (390/577), 123 features"
       ]
      },
      {
       "output_type": "stream",
       "stream": "stdout",
       "text": [
        "\r",
        "                                                                                                      \r",
        "[SLC] DBG:                     +0:01:14 ====[68%]===______ -0:00:35  ROI 31026 (391/577), 123 features"
       ]
      },
      {
       "output_type": "stream",
       "stream": "stdout",
       "text": [
        "\r",
        "                                                                                                      \r",
        "[SLC] DBG:                     +0:01:15 ====[68%]===______ -0:00:35  ROI 31096 (392/577), 123 features"
       ]
      },
      {
       "output_type": "stream",
       "stream": "stdout",
       "text": [
        "\r",
        "                                                                                                      \r",
        "[SLC] DBG:                     +0:01:15 ====[68%]===______ -0:00:35  ROI 31097 (393/577), 123 features"
       ]
      },
      {
       "output_type": "stream",
       "stream": "stdout",
       "text": [
        "\r",
        "                                                                                                      \r",
        "[SLC] DBG:                     +0:01:15 ====[68%]===______ -0:00:35  ROI 31098 (394/577), 123 features"
       ]
      },
      {
       "output_type": "stream",
       "stream": "stdout",
       "text": [
        "\r",
        "                                                                                                      \r",
        "[SLC] DBG:                     +0:01:15 ====[68%]===______ -0:00:34  ROI 31099 (395/577), 123 features"
       ]
      },
      {
       "output_type": "stream",
       "stream": "stdout",
       "text": [
        "\r",
        "                                                                                                      \r",
        "[SLC] DBG:                     +0:01:15 ====[69%]===______ -0:00:34  ROI 31134 (396/577), 123 features"
       ]
      },
      {
       "output_type": "stream",
       "stream": "stdout",
       "text": [
        "\r",
        "                                                                                                      \r",
        "[SLC] DBG:                     +0:01:16 ====[69%]===______ -0:00:34  ROI 31135 (397/577), 123 features"
       ]
      },
      {
       "output_type": "stream",
       "stream": "stdout",
       "text": [
        "\r",
        "                                                                                                      \r",
        "[SLC] DBG:                     +0:01:16 ====[69%]===______ -0:00:34  ROI 31136 (398/577), 123 features"
       ]
      },
      {
       "output_type": "stream",
       "stream": "stdout",
       "text": [
        "\r",
        "                                                                                                      \r",
        "[SLC] DBG:                     +0:01:16 ====[69%]===______ -0:00:34  ROI 31170 (399/577), 123 features"
       ]
      },
      {
       "output_type": "stream",
       "stream": "stdout",
       "text": [
        "\r",
        "                                                                                                      \r",
        "[SLC] DBG:                     +0:01:16 ====[69%]===______ -0:00:33  ROI 31171 (400/577), 123 features"
       ]
      },
      {
       "output_type": "stream",
       "stream": "stdout",
       "text": [
        "\r",
        "                                                                                                      \r",
        "[SLC] DBG:                     +0:01:16 ====[69%]===______ -0:00:33  ROI 31173 (401/577), 123 features"
       ]
      },
      {
       "output_type": "stream",
       "stream": "stdout",
       "text": [
        "\r",
        "                                                                                                      \r",
        "[SLC] DBG:                     +0:01:16 ====[70%]===______ -0:00:33  ROI 31208 (402/577), 123 features"
       ]
      },
      {
       "output_type": "stream",
       "stream": "stdout",
       "text": [
        "\r",
        "                                                                                                      \r",
        "[SLC] DBG:                     +0:01:17 ====[70%]===______ -0:00:33  ROI 31209 (403/577), 123 features"
       ]
      },
      {
       "output_type": "stream",
       "stream": "stdout",
       "text": [
        "\r",
        "                                                                                                      \r",
        "[SLC] DBG:                     +0:01:17 ====[70%]===______ -0:00:33  ROI 31210 (404/577), 123 features"
       ]
      },
      {
       "output_type": "stream",
       "stream": "stdout",
       "text": [
        "\r",
        "                                                                                                      \r",
        "[SLC] DBG:                     +0:01:17 ====[70%]===______ -0:00:32  ROI 31211 (405/577), 123 features"
       ]
      },
      {
       "output_type": "stream",
       "stream": "stdout",
       "text": [
        "\r",
        "                                                                                                      \r",
        "[SLC] DBG:                     +0:01:17 ====[70%]===______ -0:00:32  ROI 31212 (406/577), 123 features"
       ]
      },
      {
       "output_type": "stream",
       "stream": "stdout",
       "text": [
        "\r",
        "                                                                                                      \r",
        "[SLC] DBG:                     +0:01:17 ====[71%]===______ -0:00:32  ROI 31245 (407/577), 123 features"
       ]
      },
      {
       "output_type": "stream",
       "stream": "stdout",
       "text": [
        "\r",
        "                                                                                                      \r",
        "[SLC] DBG:                     +0:01:18 ====[71%]===______ -0:00:32  ROI 31246 (408/577), 123 features"
       ]
      },
      {
       "output_type": "stream",
       "stream": "stdout",
       "text": [
        "\r",
        "                                                                                                      \r",
        "[SLC] DBG:                     +0:01:18 ====[71%]===______ -0:00:32  ROI 31248 (409/577), 123 features"
       ]
      },
      {
       "output_type": "stream",
       "stream": "stdout",
       "text": [
        "\r",
        "                                                                                                      \r",
        "[SLC] DBG:                     +0:01:18 ====[71%]===______ -0:00:31  ROI 31249 (410/577), 123 features"
       ]
      },
      {
       "output_type": "stream",
       "stream": "stdout",
       "text": [
        "\r",
        "                                                                                                      \r",
        "[SLC] DBG:                     +0:01:18 ====[71%]===______ -0:00:31  ROI 31283 (411/577), 123 features"
       ]
      },
      {
       "output_type": "stream",
       "stream": "stdout",
       "text": [
        "\r",
        "                                                                                                      \r",
        "[SLC] DBG:                     +0:01:18 ====[71%]===______ -0:00:31  ROI 31284 (412/577), 123 features"
       ]
      },
      {
       "output_type": "stream",
       "stream": "stdout",
       "text": [
        "\r",
        "                                                                                                      \r",
        "[SLC] DBG:                     +0:01:18 ====[72%]===______ -0:00:31  ROI 31285 (413/577), 123 features"
       ]
      },
      {
       "output_type": "stream",
       "stream": "stdout",
       "text": [
        "\r",
        "                                                                                                      \r",
        "[SLC] DBG:                     +0:01:19 ====[72%]===______ -0:00:31  ROI 31286 (414/577), 123 features"
       ]
      },
      {
       "output_type": "stream",
       "stream": "stdout",
       "text": [
        "\r",
        "                                                                                                      \r",
        "[SLC] DBG:                     +0:01:19 ====[72%]===______ -0:00:30  ROI 31287 (415/577), 123 features"
       ]
      },
      {
       "output_type": "stream",
       "stream": "stdout",
       "text": [
        "\r",
        "                                                                                                      \r",
        "[SLC] DBG:                     +0:01:19 ====[72%]===______ -0:00:30  ROI 31320 (416/577), 123 features"
       ]
      },
      {
       "output_type": "stream",
       "stream": "stdout",
       "text": [
        "\r",
        "                                                                                                      \r",
        "[SLC] DBG:                     +0:01:19 ====[72%]====_____ -0:00:30  ROI 31321 (417/577), 123 features"
       ]
      },
      {
       "output_type": "stream",
       "stream": "stdout",
       "text": [
        "\r",
        "                                                                                                      \r",
        "[SLC] DBG:                     +0:01:19 ====[72%]====_____ -0:00:30  ROI 31323 (418/577), 123 features"
       ]
      },
      {
       "output_type": "stream",
       "stream": "stdout",
       "text": [
        "\r",
        "                                                                                                      \r",
        "[SLC] DBG:                     +0:01:19 ====[73%]====_____ -0:00:30  ROI 31325 (419/577), 123 features"
       ]
      },
      {
       "output_type": "stream",
       "stream": "stdout",
       "text": [
        "\r",
        "                                                                                                      \r",
        "[SLC] DBG:                     +0:01:20 ====[73%]====_____ -0:00:29  ROI 31358 (420/577), 123 features"
       ]
      },
      {
       "output_type": "stream",
       "stream": "stdout",
       "text": [
        "\r",
        "                                                                                                      \r",
        "[SLC] DBG:                     +0:01:20 ====[73%]====_____ -0:00:29  ROI 31395 (421/577), 123 features"
       ]
      },
      {
       "output_type": "stream",
       "stream": "stdout",
       "text": [
        "\r",
        "                                                                                                      \r",
        "[SLC] DBG:                     +0:01:20 ====[73%]====_____ -0:00:29  ROI 31429 (422/577), 123 features"
       ]
      },
      {
       "output_type": "stream",
       "stream": "stdout",
       "text": [
        "\r",
        "                                                                                                      \r",
        "[SLC] DBG:                     +0:01:20 ====[73%]====_____ -0:00:29  ROI 31431 (423/577), 123 features"
       ]
      },
      {
       "output_type": "stream",
       "stream": "stdout",
       "text": [
        "\r",
        "                                                                                                      \r",
        "[SLC] DBG:                     +0:01:20 ====[73%]====_____ -0:00:29  ROI 32160 (424/577), 123 features"
       ]
      },
      {
       "output_type": "stream",
       "stream": "stdout",
       "text": [
        "\r",
        "                                                                                                      \r",
        "[SLC] DBG:                     +0:01:21 ====[74%]====_____ -0:00:28  ROI 32161 (425/577), 123 features"
       ]
      },
      {
       "output_type": "stream",
       "stream": "stdout",
       "text": [
        "\r",
        "                                                                                                      \r",
        "[SLC] DBG:                     +0:01:21 ====[74%]====_____ -0:00:28  ROI 32194 (426/577), 123 features"
       ]
      },
      {
       "output_type": "stream",
       "stream": "stdout",
       "text": [
        "\r",
        "                                                                                                      \r",
        "[SLC] DBG:                     +0:01:21 ====[74%]====_____ -0:00:28  ROI 32196 (427/577), 123 features"
       ]
      },
      {
       "output_type": "stream",
       "stream": "stdout",
       "text": [
        "\r",
        "                                                                                                      \r",
        "[SLC] DBG:                     +0:01:21 ====[74%]====_____ -0:00:28  ROI 32197 (428/577), 123 features"
       ]
      },
      {
       "output_type": "stream",
       "stream": "stdout",
       "text": [
        "\r",
        "                                                                                                      \r",
        "[SLC] DBG:                     +0:01:21 ====[74%]====_____ -0:00:28  ROI 32230 (429/577), 123 features"
       ]
      },
      {
       "output_type": "stream",
       "stream": "stdout",
       "text": [
        "\r",
        "                                                                                                      \r",
        "[SLC] DBG:                     +0:01:21 ====[75%]====_____ -0:00:28  ROI 32231 (430/577), 123 features"
       ]
      },
      {
       "output_type": "stream",
       "stream": "stdout",
       "text": [
        "\r",
        "                                                                                                      \r",
        "[SLC] DBG:                     +0:01:22 ====[75%]====_____ -0:00:27  ROI 32233 (431/577), 123 features"
       ]
      },
      {
       "output_type": "stream",
       "stream": "stdout",
       "text": [
        "\r",
        "                                                                                                      \r",
        "[SLC] DBG:                     +0:01:22 ====[75%]====_____ -0:00:27  ROI 32234 (432/577), 123 features"
       ]
      },
      {
       "output_type": "stream",
       "stream": "stdout",
       "text": [
        "\r",
        "                                                                                                      \r",
        "[SLC] DBG:                     +0:01:22 ====[75%]====_____ -0:00:27  ROI 32266 (433/577), 123 features"
       ]
      },
      {
       "output_type": "stream",
       "stream": "stdout",
       "text": [
        "\r",
        "                                                                                                      \r",
        "[SLC] DBG:                     +0:01:22 ====[75%]====_____ -0:00:27  ROI 32267 (434/577), 123 features"
       ]
      },
      {
       "output_type": "stream",
       "stream": "stdout",
       "text": [
        "\r",
        "                                                                                                      \r",
        "[SLC] DBG:                     +0:01:22 ====[75%]====_____ -0:00:27  ROI 32270 (435/577), 123 features"
       ]
      },
      {
       "output_type": "stream",
       "stream": "stdout",
       "text": [
        "\r",
        "                                                                                                      \r",
        "[SLC] DBG:                     +0:01:23 ====[76%]====_____ -0:00:26  ROI 32302 (436/577), 123 features"
       ]
      },
      {
       "output_type": "stream",
       "stream": "stdout",
       "text": [
        "\r",
        "                                                                                                      \r",
        "[SLC] DBG:                     +0:01:23 ====[76%]====_____ -0:00:26  ROI 32303 (437/577), 123 features"
       ]
      },
      {
       "output_type": "stream",
       "stream": "stdout",
       "text": [
        "\r",
        "                                                                                                      \r",
        "[SLC] DBG:                     +0:01:23 ====[76%]====_____ -0:00:26  ROI 32305 (438/577), 123 features"
       ]
      },
      {
       "output_type": "stream",
       "stream": "stdout",
       "text": [
        "\r",
        "                                                                                                      \r",
        "[SLC] DBG:                     +0:01:23 ====[76%]====_____ -0:00:26  ROI 32339 (439/577), 123 features"
       ]
      },
      {
       "output_type": "stream",
       "stream": "stdout",
       "text": [
        "\r",
        "                                                                                                      \r",
        "[SLC] DBG:                     +0:01:23 ====[76%]====_____ -0:00:26  ROI 32340 (440/577), 123 features"
       ]
      },
      {
       "output_type": "stream",
       "stream": "stdout",
       "text": [
        "\r",
        "                                                                                                      \r",
        "[SLC] DBG:                     +0:01:23 ====[76%]====_____ -0:00:25  ROI 32342 (441/577), 123 features"
       ]
      },
      {
       "output_type": "stream",
       "stream": "stdout",
       "text": [
        "\r",
        "                                                                                                      \r",
        "[SLC] DBG:                     +0:01:24 ====[77%]====_____ -0:00:25  ROI 32376 (442/577), 123 features"
       ]
      },
      {
       "output_type": "stream",
       "stream": "stdout",
       "text": [
        "\r",
        "                                                                                                      \r",
        "[SLC] DBG:                     +0:01:24 ====[77%]====_____ -0:00:25  ROI 32377 (443/577), 123 features"
       ]
      },
      {
       "output_type": "stream",
       "stream": "stdout",
       "text": [
        "\r",
        "                                                                                                      \r",
        "[SLC] DBG:                     +0:01:24 ====[77%]====_____ -0:00:25  ROI 32414 (444/577), 123 features"
       ]
      },
      {
       "output_type": "stream",
       "stream": "stdout",
       "text": [
        "\r",
        "                                                                                                      \r",
        "[SLC] DBG:                     +0:01:24 ====[77%]====_____ -0:00:25  ROI 32450 (445/577), 123 features"
       ]
      },
      {
       "output_type": "stream",
       "stream": "stdout",
       "text": [
        "\r",
        "                                                                                                      \r",
        "[SLC] DBG:                     +0:01:24 ====[77%]====_____ -0:00:24  ROI 32451 (446/577), 123 features"
       ]
      },
      {
       "output_type": "stream",
       "stream": "stdout",
       "text": [
        "\r",
        "                                                                                                      \r",
        "[SLC] DBG:                     +0:01:25 ====[77%]====_____ -0:00:24  ROI 32489 (447/577), 123 features"
       ]
      },
      {
       "output_type": "stream",
       "stream": "stdout",
       "text": [
        "\r",
        "                                                                                                      \r",
        "[SLC] DBG:                     +0:01:25 ====[78%]====_____ -0:00:24  ROI 32491 (448/577), 123 features"
       ]
      },
      {
       "output_type": "stream",
       "stream": "stdout",
       "text": [
        "\r",
        "                                                                                                      \r",
        "[SLC] DBG:                     +0:01:25 =====[78%]====____ -0:00:24  ROI 32528 (449/577), 123 features"
       ]
      },
      {
       "output_type": "stream",
       "stream": "stdout",
       "text": [
        "\r",
        "                                                                                                      \r",
        "[SLC] DBG:                     +0:01:25 =====[78%]====____ -0:00:24  ROI 32596 (450/577), 123 features"
       ]
      },
      {
       "output_type": "stream",
       "stream": "stdout",
       "text": [
        "\r",
        "                                                                                                      \r",
        "[SLC] DBG:                     +0:01:25 =====[78%]====____ -0:00:23  ROI 32597 (451/577), 123 features"
       ]
      },
      {
       "output_type": "stream",
       "stream": "stdout",
       "text": [
        "\r",
        "                                                                                                      \r",
        "[SLC] DBG:                     +0:01:25 =====[78%]====____ -0:00:23  ROI 32627 (452/577), 123 features"
       ]
      },
      {
       "output_type": "stream",
       "stream": "stdout",
       "text": [
        "\r",
        "                                                                                                      \r",
        "[SLC] DBG:                     +0:01:26 =====[79%]====____ -0:00:23  ROI 32628 (453/577), 123 features"
       ]
      },
      {
       "output_type": "stream",
       "stream": "stdout",
       "text": [
        "\r",
        "                                                                                                      \r",
        "[SLC] DBG:                     +0:01:26 =====[79%]====____ -0:00:23  ROI 33294 (454/577), 123 features"
       ]
      },
      {
       "output_type": "stream",
       "stream": "stdout",
       "text": [
        "\r",
        "                                                                                                      \r",
        "[SLC] DBG:                     +0:01:26 =====[79%]====____ -0:00:23  ROI 33295 (455/577), 123 features"
       ]
      },
      {
       "output_type": "stream",
       "stream": "stdout",
       "text": [
        "\r",
        "                                                                                                      \r",
        "[SLC] DBG:                     +0:01:26 =====[79%]====____ -0:00:23  ROI 33326 (456/577), 123 features"
       ]
      },
      {
       "output_type": "stream",
       "stream": "stdout",
       "text": [
        "\r",
        "                                                                                                      \r",
        "[SLC] DBG:                     +0:01:26 =====[79%]====____ -0:00:22  ROI 33327 (457/577), 123 features"
       ]
      },
      {
       "output_type": "stream",
       "stream": "stdout",
       "text": [
        "\r",
        "                                                                                                      \r",
        "[SLC] DBG:                     +0:01:27 =====[79%]====____ -0:00:22  ROI 33329 (458/577), 123 features"
       ]
      },
      {
       "output_type": "stream",
       "stream": "stdout",
       "text": [
        "\r",
        "                                                                                                      \r",
        "[SLC] DBG:                     +0:01:27 =====[80%]====____ -0:00:22  ROI 33330 (459/577), 123 features"
       ]
      },
      {
       "output_type": "stream",
       "stream": "stdout",
       "text": [
        "\r",
        "                                                                                                      \r",
        "[SLC] DBG:                     +0:01:27 =====[80%]====____ -0:00:22  ROI 33360 (460/577), 123 features"
       ]
      },
      {
       "output_type": "stream",
       "stream": "stdout",
       "text": [
        "\r",
        "                                                                                                      \r",
        "[SLC] DBG:                     +0:01:27 =====[80%]====____ -0:00:22  ROI 33361 (461/577), 123 features"
       ]
      },
      {
       "output_type": "stream",
       "stream": "stdout",
       "text": [
        "\r",
        "                                                                                                      \r",
        "[SLC] DBG:                     +0:01:27 =====[80%]====____ -0:00:21  ROI 33362 (462/577), 123 features"
       ]
      },
      {
       "output_type": "stream",
       "stream": "stdout",
       "text": [
        "\r",
        "                                                                                                      \r",
        "[SLC] DBG:                     +0:01:27 =====[80%]====____ -0:00:21  ROI 33364 (463/577), 123 features"
       ]
      },
      {
       "output_type": "stream",
       "stream": "stdout",
       "text": [
        "\r",
        "                                                                                                      \r",
        "[SLC] DBG:                     +0:01:28 =====[80%]====____ -0:00:21  ROI 33365 (464/577), 123 features"
       ]
      },
      {
       "output_type": "stream",
       "stream": "stdout",
       "text": [
        "\r",
        "                                                                                                      \r",
        "[SLC] DBG:                     +0:01:28 =====[81%]====____ -0:00:21  ROI 33396 (465/577), 123 features"
       ]
      },
      {
       "output_type": "stream",
       "stream": "stdout",
       "text": [
        "\r",
        "                                                                                                      \r",
        "[SLC] DBG:                     +0:01:28 =====[81%]====____ -0:00:21  ROI 33397 (466/577), 123 features"
       ]
      },
      {
       "output_type": "stream",
       "stream": "stdout",
       "text": [
        "\r",
        "                                                                                                      \r",
        "[SLC] DBG:                     +0:01:28 =====[81%]====____ -0:00:20  ROI 33399 (467/577), 123 features"
       ]
      },
      {
       "output_type": "stream",
       "stream": "stdout",
       "text": [
        "\r",
        "                                                                                                      \r",
        "[SLC] DBG:                     +0:01:28 =====[81%]====____ -0:00:20  ROI 33400 (468/577), 123 features"
       ]
      },
      {
       "output_type": "stream",
       "stream": "stdout",
       "text": [
        "\r",
        "                                                                                                      \r",
        "[SLC] DBG:                     +0:01:29 =====[81%]====____ -0:00:20  ROI 33431 (469/577), 123 features"
       ]
      },
      {
       "output_type": "stream",
       "stream": "stdout",
       "text": [
        "\r",
        "                                                                                                      \r",
        "[SLC] DBG:                     +0:01:29 =====[81%]====____ -0:00:20  ROI 33432 (470/577), 123 features"
       ]
      },
      {
       "output_type": "stream",
       "stream": "stdout",
       "text": [
        "\r",
        "                                                                                                      \r",
        "[SLC] DBG:                     +0:01:29 =====[82%]====____ -0:00:20  ROI 33434 (471/577), 123 features"
       ]
      },
      {
       "output_type": "stream",
       "stream": "stdout",
       "text": [
        "\r",
        "                                                                                                      \r",
        "[SLC] DBG:                     +0:01:29 =====[82%]====____ -0:00:19  ROI 33435 (472/577), 123 features"
       ]
      },
      {
       "output_type": "stream",
       "stream": "stdout",
       "text": [
        "\r",
        "                                                                                                      \r",
        "[SLC] DBG:                     +0:01:29 =====[82%]====____ -0:00:19  ROI 33467 (473/577), 123 features"
       ]
      },
      {
       "output_type": "stream",
       "stream": "stdout",
       "text": [
        "\r",
        "                                                                                                      \r",
        "[SLC] DBG:                     +0:01:30 =====[82%]====____ -0:00:19  ROI 33468 (474/577), 123 features"
       ]
      },
      {
       "output_type": "stream",
       "stream": "stdout",
       "text": [
        "\r",
        "                                                                                                      \r",
        "[SLC] DBG:                     +0:01:30 =====[82%]====____ -0:00:19  ROI 33469 (475/577), 123 features"
       ]
      },
      {
       "output_type": "stream",
       "stream": "stdout",
       "text": [
        "\r",
        "                                                                                                      \r",
        "[SLC] DBG:                     +0:01:30 =====[82%]====____ -0:00:19  ROI 33503 (476/577), 123 features"
       ]
      },
      {
       "output_type": "stream",
       "stream": "stdout",
       "text": [
        "\r",
        "                                                                                                      \r",
        "[SLC] DBG:                     +0:01:30 =====[83%]====____ -0:00:18  ROI 33504 (477/577), 123 features"
       ]
      },
      {
       "output_type": "stream",
       "stream": "stdout",
       "text": [
        "\r",
        "                                                                                                      \r",
        "[SLC] DBG:                     +0:01:30 =====[83%]====____ -0:00:18  ROI 33505 (478/577), 123 features"
       ]
      },
      {
       "output_type": "stream",
       "stream": "stdout",
       "text": [
        "\r",
        "                                                                                                      \r",
        "[SLC] DBG:                     +0:01:30 =====[83%]====____ -0:00:18  ROI 33506 (479/577), 123 features"
       ]
      },
      {
       "output_type": "stream",
       "stream": "stdout",
       "text": [
        "\r",
        "                                                                                                      \r",
        "[SLC] DBG:                     +0:01:31 =====[83%]====____ -0:00:18  ROI 33539 (480/577), 123 features"
       ]
      },
      {
       "output_type": "stream",
       "stream": "stdout",
       "text": [
        "\r",
        "                                                                                                      \r",
        "[SLC] DBG:                     +0:01:31 =====[83%]=====___ -0:00:18  ROI 33540 (481/577), 123 features"
       ]
      },
      {
       "output_type": "stream",
       "stream": "stdout",
       "text": [
        "\r",
        "                                                                                                      \r",
        "[SLC] DBG:                     +0:01:31 =====[84%]=====___ -0:00:18  ROI 33541 (482/577), 123 features"
       ]
      },
      {
       "output_type": "stream",
       "stream": "stdout",
       "text": [
        "\r",
        "                                                                                                      \r",
        "[SLC] DBG:                     +0:01:31 =====[84%]=====___ -0:00:17  ROI 33542 (483/577), 123 features"
       ]
      },
      {
       "output_type": "stream",
       "stream": "stdout",
       "text": [
        "\r",
        "                                                                                                      \r",
        "[SLC] DBG:                     +0:01:31 =====[84%]=====___ -0:00:17  ROI 33576 (484/577), 123 features"
       ]
      },
      {
       "output_type": "stream",
       "stream": "stdout",
       "text": [
        "\r",
        "                                                                                                      \r",
        "[SLC] DBG:                     +0:01:32 =====[84%]=====___ -0:00:17  ROI 33577 (485/577), 123 features"
       ]
      },
      {
       "output_type": "stream",
       "stream": "stdout",
       "text": [
        "\r",
        "                                                                                                      \r",
        "[SLC] DBG:                     +0:01:32 =====[84%]=====___ -0:00:17  ROI 33578 (486/577), 123 features"
       ]
      },
      {
       "output_type": "stream",
       "stream": "stdout",
       "text": [
        "\r",
        "                                                                                                      \r",
        "[SLC] DBG:                     +0:01:32 =====[84%]=====___ -0:00:17  ROI 33580 (487/577), 123 features"
       ]
      },
      {
       "output_type": "stream",
       "stream": "stdout",
       "text": [
        "\r",
        "                                                                                                      \r",
        "[SLC] DBG:                     +0:01:32 =====[85%]=====___ -0:00:16  ROI 33614 (488/577), 123 features"
       ]
      },
      {
       "output_type": "stream",
       "stream": "stdout",
       "text": [
        "\r",
        "                                                                                                      \r",
        "[SLC] DBG:                     +0:01:32 =====[85%]=====___ -0:00:16  ROI 33616 (489/577), 123 features"
       ]
      },
      {
       "output_type": "stream",
       "stream": "stdout",
       "text": [
        "\r",
        "                                                                                                      \r",
        "[SLC] DBG:                     +0:01:32 =====[85%]=====___ -0:00:16  ROI 34366 (490/577), 123 features"
       ]
      },
      {
       "output_type": "stream",
       "stream": "stdout",
       "text": [
        "\r",
        "                                                                                                      \r",
        "[SLC] DBG:                     +0:01:33 =====[85%]=====___ -0:00:16  ROI 34367 (491/577), 123 features"
       ]
      },
      {
       "output_type": "stream",
       "stream": "stdout",
       "text": [
        "\r",
        "                                                                                                      \r",
        "[SLC] DBG:                     +0:01:33 =====[85%]=====___ -0:00:16  ROI 34368 (492/577), 123 features"
       ]
      },
      {
       "output_type": "stream",
       "stream": "stdout",
       "text": [
        "\r",
        "                                                                                                      \r",
        "[SLC] DBG:                     +0:01:33 =====[85%]=====___ -0:00:15  ROI 34398 (493/577), 123 features"
       ]
      },
      {
       "output_type": "stream",
       "stream": "stdout",
       "text": [
        "\r",
        "                                                                                                      \r",
        "[SLC] DBG:                     +0:01:33 =====[86%]=====___ -0:00:15  ROI 34399 (494/577), 123 features"
       ]
      },
      {
       "output_type": "stream",
       "stream": "stdout",
       "text": [
        "\r",
        "                                                                                                      \r",
        "[SLC] DBG:                     +0:01:33 =====[86%]=====___ -0:00:15  ROI 34400 (495/577), 123 features"
       ]
      },
      {
       "output_type": "stream",
       "stream": "stdout",
       "text": [
        "\r",
        "                                                                                                      \r",
        "[SLC] DBG:                     +0:01:34 =====[86%]=====___ -0:00:15  ROI 34401 (496/577), 123 features"
       ]
      },
      {
       "output_type": "stream",
       "stream": "stdout",
       "text": [
        "\r",
        "                                                                                                      \r",
        "[SLC] DBG:                     +0:01:34 =====[86%]=====___ -0:00:15  ROI 34428 (497/577), 123 features"
       ]
      },
      {
       "output_type": "stream",
       "stream": "stdout",
       "text": [
        "\r",
        "                                                                                                      \r",
        "[SLC] DBG:                     +0:01:34 =====[86%]=====___ -0:00:14  ROI 34429 (498/577), 123 features"
       ]
      },
      {
       "output_type": "stream",
       "stream": "stdout",
       "text": [
        "\r",
        "                                                                                                      \r",
        "[SLC] DBG:                     +0:01:34 =====[86%]=====___ -0:00:14  ROI 34431 (499/577), 123 features"
       ]
      },
      {
       "output_type": "stream",
       "stream": "stdout",
       "text": [
        "\r",
        "                                                                                                      \r",
        "[SLC] DBG:                     +0:01:34 =====[87%]=====___ -0:00:14  ROI 34432 (500/577), 123 features"
       ]
      },
      {
       "output_type": "stream",
       "stream": "stdout",
       "text": [
        "\r",
        "                                                                                                      \r",
        "[SLC] DBG:                     +0:01:34 =====[87%]=====___ -0:00:14  ROI 34433 (501/577), 123 features"
       ]
      },
      {
       "output_type": "stream",
       "stream": "stdout",
       "text": [
        "\r",
        "                                                                                                      \r",
        "[SLC] DBG:                     +0:01:35 =====[87%]=====___ -0:00:14  ROI 34434 (502/577), 123 features"
       ]
      },
      {
       "output_type": "stream",
       "stream": "stdout",
       "text": [
        "\r",
        "                                                                                                      \r",
        "[SLC] DBG:                     +0:01:35 =====[87%]=====___ -0:00:14  ROI 34465 (503/577), 123 features"
       ]
      },
      {
       "output_type": "stream",
       "stream": "stdout",
       "text": [
        "\r",
        "                                                                                                      \r",
        "[SLC] DBG:                     +0:01:35 =====[87%]=====___ -0:00:13  ROI 34466 (504/577), 123 features"
       ]
      },
      {
       "output_type": "stream",
       "stream": "stdout",
       "text": [
        "\r",
        "                                                                                                      \r",
        "[SLC] DBG:                     +0:01:35 =====[88%]=====___ -0:00:13  ROI 34467 (505/577), 123 features"
       ]
      },
      {
       "output_type": "stream",
       "stream": "stdout",
       "text": [
        "\r",
        "                                                                                                      \r",
        "[SLC] DBG:                     +0:01:35 =====[88%]=====___ -0:00:13  ROI 34498 (506/577), 123 features"
       ]
      },
      {
       "output_type": "stream",
       "stream": "stdout",
       "text": [
        "\r",
        "                                                                                                      \r",
        "[SLC] DBG:                     +0:01:36 =====[88%]=====___ -0:00:13  ROI 34499 (507/577), 123 features"
       ]
      },
      {
       "output_type": "stream",
       "stream": "stdout",
       "text": [
        "\r",
        "                                                                                                      \r",
        "[SLC] DBG:                     +0:01:36 =====[88%]=====___ -0:00:13  ROI 34501 (508/577), 123 features"
       ]
      },
      {
       "output_type": "stream",
       "stream": "stdout",
       "text": [
        "\r",
        "                                                                                                      \r",
        "[SLC] DBG:                     +0:01:36 =====[88%]=====___ -0:00:12  ROI 34502 (509/577), 123 features"
       ]
      },
      {
       "output_type": "stream",
       "stream": "stdout",
       "text": [
        "\r",
        "                                                                                                      \r",
        "[SLC] DBG:                     +0:01:36 =====[88%]=====___ -0:00:12  ROI 34534 (510/577), 123 features"
       ]
      },
      {
       "output_type": "stream",
       "stream": "stdout",
       "text": [
        "\r",
        "                                                                                                      \r",
        "[SLC] DBG:                     +0:01:36 =====[89%]=====___ -0:00:12  ROI 34535 (511/577), 123 features"
       ]
      },
      {
       "output_type": "stream",
       "stream": "stdout",
       "text": [
        "\r",
        "                                                                                                      \r",
        "[SLC] DBG:                     +0:01:37 =====[89%]=====___ -0:00:12  ROI 34537 (512/577), 123 features"
       ]
      },
      {
       "output_type": "stream",
       "stream": "stdout",
       "text": [
        "\r",
        "                                                                                                      \r",
        "[SLC] DBG:                     +0:01:37 ======[89%]=====__ -0:00:12  ROI 34570 (513/577), 123 features"
       ]
      },
      {
       "output_type": "stream",
       "stream": "stdout",
       "text": [
        "\r",
        "                                                                                                      \r",
        "[SLC] DBG:                     +0:01:37 ======[89%]=====__ -0:00:11  ROI 34603 (514/577), 123 features"
       ]
      },
      {
       "output_type": "stream",
       "stream": "stdout",
       "text": [
        "\r",
        "                                                                                                      \r",
        "[SLC] DBG:                     +0:01:37 ======[89%]=====__ -0:00:11  ROI 34605 (515/577), 123 features"
       ]
      },
      {
       "output_type": "stream",
       "stream": "stdout",
       "text": [
        "\r",
        "                                                                                                      \r",
        "[SLC] DBG:                     +0:01:37 ======[89%]=====__ -0:00:11  ROI 34640 (516/577), 123 features"
       ]
      },
      {
       "output_type": "stream",
       "stream": "stdout",
       "text": [
        "\r",
        "                                                                                                      \r",
        "[SLC] DBG:                     +0:01:37 ======[90%]=====__ -0:00:11  ROI 34673 (517/577), 123 features"
       ]
      },
      {
       "output_type": "stream",
       "stream": "stdout",
       "text": [
        "\r",
        "                                                                                                      \r",
        "[SLC] DBG:                     +0:01:38 ======[90%]=====__ -0:00:11  ROI 35384 (518/577), 123 features"
       ]
      },
      {
       "output_type": "stream",
       "stream": "stdout",
       "text": [
        "\r",
        "                                                                                                      \r",
        "[SLC] DBG:                     +0:01:38 ======[90%]=====__ -0:00:10  ROI 35386 (519/577), 123 features"
       ]
      },
      {
       "output_type": "stream",
       "stream": "stdout",
       "text": [
        "\r",
        "                                                                                                      \r",
        "[SLC] DBG:                     +0:01:38 ======[90%]=====__ -0:00:10  ROI 35413 (520/577), 122 features"
       ]
      },
      {
       "output_type": "stream",
       "stream": "stdout",
       "text": [
        "\r",
        "                                                                                                      \r",
        "[SLC] DBG:                     +0:01:38 ======[90%]=====__ -0:00:10  ROI 35414 (521/577), 123 features"
       ]
      },
      {
       "output_type": "stream",
       "stream": "stdout",
       "text": [
        "\r",
        "                                                                                                      \r",
        "[SLC] DBG:                     +0:01:38 ======[90%]=====__ -0:00:10  ROI 35415 (522/577), 123 features"
       ]
      },
      {
       "output_type": "stream",
       "stream": "stdout",
       "text": [
        "\r",
        "                                                                                                      \r",
        "[SLC] DBG:                     +0:01:39 ======[91%]=====__ -0:00:10  ROI 35416 (523/577), 123 features"
       ]
      },
      {
       "output_type": "stream",
       "stream": "stdout",
       "text": [
        "\r",
        "                                                                                                      \r",
        "[SLC] DBG:                     +0:01:39 ======[91%]=====__ -0:00:10  ROI 35417 (524/577), 123 features"
       ]
      },
      {
       "output_type": "stream",
       "stream": "stdout",
       "text": [
        "\r",
        "                                                                                                      \r",
        "[SLC] DBG:                     +0:01:39 ======[91%]=====__ -0:00:09  ROI 35444 (525/577), 122 features"
       ]
      },
      {
       "output_type": "stream",
       "stream": "stdout",
       "text": [
        "\r",
        "                                                                                                      \r",
        "[SLC] DBG:                     +0:01:39 ======[91%]=====__ -0:00:09  ROI 35445 (526/577), 123 features"
       ]
      },
      {
       "output_type": "stream",
       "stream": "stdout",
       "text": [
        "\r",
        "                                                                                                      \r",
        "[SLC] DBG:                     +0:01:39 ======[91%]=====__ -0:00:09  ROI 35447 (527/577), 123 features"
       ]
      },
      {
       "output_type": "stream",
       "stream": "stdout",
       "text": [
        "\r",
        "                                                                                                      \r",
        "[SLC] DBG:                     +0:01:39 ======[92%]=====__ -0:00:09  ROI 35448 (528/577), 123 features"
       ]
      },
      {
       "output_type": "stream",
       "stream": "stdout",
       "text": [
        "\r",
        "                                                                                                      \r",
        "[SLC] DBG:                     +0:01:40 ======[92%]=====__ -0:00:09  ROI 35449 (529/577), 123 features"
       ]
      },
      {
       "output_type": "stream",
       "stream": "stdout",
       "text": [
        "\r",
        "                                                                                                      \r",
        "[SLC] DBG:                     +0:01:40 ======[92%]=====__ -0:00:08  ROI 35450 (530/577), 123 features"
       ]
      },
      {
       "output_type": "stream",
       "stream": "stdout",
       "text": [
        "\r",
        "                                                                                                      \r",
        "[SLC] DBG:                     +0:01:40 ======[92%]=====__ -0:00:08  ROI 35478 (531/577), 123 features"
       ]
      },
      {
       "output_type": "stream",
       "stream": "stdout",
       "text": [
        "\r",
        "                                                                                                      \r",
        "[SLC] DBG:                     +0:01:40 ======[92%]=====__ -0:00:08  ROI 35480 (532/577), 123 features"
       ]
      },
      {
       "output_type": "stream",
       "stream": "stdout",
       "text": [
        "\r",
        "                                                                                                      \r",
        "[SLC] DBG:                     +0:01:41 ======[92%]=====__ -0:00:08  ROI 35481 (533/577), 123 features"
       ]
      },
      {
       "output_type": "stream",
       "stream": "stdout",
       "text": [
        "\r",
        "                                                                                                      \r",
        "[SLC] DBG:                     +0:01:41 ======[93%]=====__ -0:00:08  ROI 35482 (534/577), 123 features"
       ]
      },
      {
       "output_type": "stream",
       "stream": "stdout",
       "text": [
        "\r",
        "                                                                                                      \r",
        "[SLC] DBG:                     +0:01:41 ======[93%]=====__ -0:00:07  ROI 35511 (535/577), 123 features"
       ]
      },
      {
       "output_type": "stream",
       "stream": "stdout",
       "text": [
        "\r",
        "                                                                                                      \r",
        "[SLC] DBG:                     +0:01:41 ======[93%]=====__ -0:00:07  ROI 35513 (536/577), 123 features"
       ]
      },
      {
       "output_type": "stream",
       "stream": "stdout",
       "text": [
        "\r",
        "                                                                                                      \r",
        "[SLC] DBG:                     +0:01:41 ======[93%]=====__ -0:00:07  ROI 35514 (537/577), 123 features"
       ]
      },
      {
       "output_type": "stream",
       "stream": "stdout",
       "text": [
        "\r",
        "                                                                                                      \r",
        "[SLC] DBG:                     +0:01:41 ======[93%]=====__ -0:00:07  ROI 35515 (538/577), 123 features"
       ]
      },
      {
       "output_type": "stream",
       "stream": "stdout",
       "text": [
        "\r",
        "                                                                                                      \r",
        "[SLC] DBG:                     +0:01:42 ======[93%]=====__ -0:00:07  ROI 35516 (539/577), 123 features"
       ]
      },
      {
       "output_type": "stream",
       "stream": "stdout",
       "text": [
        "\r",
        "                                                                                                      \r",
        "[SLC] DBG:                     +0:01:42 ======[94%]=====__ -0:00:07  ROI 35546 (540/577), 123 features"
       ]
      },
      {
       "output_type": "stream",
       "stream": "stdout",
       "text": [
        "\r",
        "                                                                                                      \r",
        "[SLC] DBG:                     +0:01:42 ======[94%]=====__ -0:00:06  ROI 35547 (541/577), 123 features"
       ]
      },
      {
       "output_type": "stream",
       "stream": "stdout",
       "text": [
        "\r",
        "                                                                                                      \r",
        "[SLC] DBG:                     +0:01:42 ======[94%]=====__ -0:00:06  ROI 35548 (542/577), 123 features"
       ]
      },
      {
       "output_type": "stream",
       "stream": "stdout",
       "text": [
        "\r",
        "                                                                                                      \r",
        "[SLC] DBG:                     +0:01:42 ======[94%]=====__ -0:00:06  ROI 35549 (543/577), 123 features"
       ]
      },
      {
       "output_type": "stream",
       "stream": "stdout",
       "text": [
        "\r",
        "                                                                                                      \r",
        "[SLC] DBG:                     +0:01:43 ======[94%]=====__ -0:00:06  ROI 35580 (544/577), 123 features"
       ]
      },
      {
       "output_type": "stream",
       "stream": "stdout",
       "text": [
        "\r",
        "                                                                                                      \r",
        "[SLC] DBG:                     +0:01:43 ======[94%]======_ -0:00:06  ROI 35581 (545/577), 123 features"
       ]
      },
      {
       "output_type": "stream",
       "stream": "stdout",
       "text": [
        "\r",
        "                                                                                                      \r",
        "[SLC] DBG:                     +0:01:43 ======[95%]======_ -0:00:05  ROI 35582 (546/577), 123 features"
       ]
      },
      {
       "output_type": "stream",
       "stream": "stdout",
       "text": [
        "\r",
        "                                                                                                      \r",
        "[SLC] DBG:                     +0:01:43 ======[95%]======_ -0:00:05  ROI 35583 (547/577), 123 features"
       ]
      },
      {
       "output_type": "stream",
       "stream": "stdout",
       "text": [
        "\r",
        "                                                                                                      \r",
        "[SLC] DBG:                     +0:01:43 ======[95%]======_ -0:00:05  ROI 35615 (548/577), 123 features"
       ]
      },
      {
       "output_type": "stream",
       "stream": "stdout",
       "text": [
        "\r",
        "                                                                                                      \r",
        "[SLC] DBG:                     +0:01:44 ======[95%]======_ -0:00:05  ROI 35616 (549/577), 123 features"
       ]
      },
      {
       "output_type": "stream",
       "stream": "stdout",
       "text": [
        "\r",
        "                                                                                                      \r",
        "[SLC] DBG:                     +0:01:44 ======[95%]======_ -0:00:05  ROI 35683 (550/577), 123 features"
       ]
      },
      {
       "output_type": "stream",
       "stream": "stdout",
       "text": [
        "\r",
        "                                                                                                      \r",
        "[SLC] DBG:                     +0:01:44 ======[95%]======_ -0:00:04  ROI 35715 (551/577), 123 features"
       ]
      },
      {
       "output_type": "stream",
       "stream": "stdout",
       "text": [
        "\r",
        "                                                                                                      \r",
        "[SLC] DBG:                     +0:01:44 ======[96%]======_ -0:00:04  ROI 35745 (552/577), 123 features"
       ]
      },
      {
       "output_type": "stream",
       "stream": "stdout",
       "text": [
        "\r",
        "                                                                                                      \r",
        "[SLC] DBG:                     +0:01:44 ======[96%]======_ -0:00:04  ROI 36324 (553/577), 123 features"
       ]
      },
      {
       "output_type": "stream",
       "stream": "stdout",
       "text": [
        "\r",
        "                                                                                                      \r",
        "[SLC] DBG:                     +0:01:45 ======[96%]======_ -0:00:04  ROI 36354 (554/577), 123 features"
       ]
      },
      {
       "output_type": "stream",
       "stream": "stdout",
       "text": [
        "\r",
        "                                                                                                      \r",
        "[SLC] DBG:                     +0:01:45 ======[96%]======_ -0:00:04  ROI 36382 (555/577), 123 features"
       ]
      },
      {
       "output_type": "stream",
       "stream": "stdout",
       "text": [
        "\r",
        "                                                                                                      \r",
        "[SLC] DBG:                     +0:01:45 ======[96%]======_ -0:00:03  ROI 36384 (556/577), 123 features"
       ]
      },
      {
       "output_type": "stream",
       "stream": "stdout",
       "text": [
        "\r",
        "                                                                                                      \r",
        "[SLC] DBG:                     +0:01:45 ======[97%]======_ -0:00:03  ROI 36414 (557/577), 123 features"
       ]
      },
      {
       "output_type": "stream",
       "stream": "stdout",
       "text": [
        "\r",
        "                                                                                                      \r",
        "[SLC] DBG:                     +0:01:45 ======[97%]======_ -0:00:03  ROI 36415 (558/577), 123 features"
       ]
      },
      {
       "output_type": "stream",
       "stream": "stdout",
       "text": [
        "\r",
        "                                                                                                      \r",
        "[SLC] DBG:                     +0:01:45 ======[97%]======_ -0:00:03  ROI 36446 (559/577), 123 features"
       ]
      },
      {
       "output_type": "stream",
       "stream": "stdout",
       "text": [
        "\r",
        "                                                                                                      \r",
        "[SLC] DBG:                     +0:01:46 ======[97%]======_ -0:00:03  ROI 36447 (560/577), 123 features"
       ]
      },
      {
       "output_type": "stream",
       "stream": "stdout",
       "text": [
        "\r",
        "                                                                                                      \r",
        "[SLC] DBG:                     +0:01:46 ======[97%]======_ -0:00:03  ROI 36479 (561/577), 123 features"
       ]
      },
      {
       "output_type": "stream",
       "stream": "stdout",
       "text": [
        "\r",
        "                                                                                                      \r",
        "[SLC] DBG:                     +0:01:46 ======[97%]======_ -0:00:02  ROI 36480 (562/577), 123 features"
       ]
      },
      {
       "output_type": "stream",
       "stream": "stdout",
       "text": [
        "\r",
        "                                                                                                      \r",
        "[SLC] DBG:                     +0:01:46 ======[98%]======_ -0:00:02  ROI 36481 (563/577), 123 features"
       ]
      },
      {
       "output_type": "stream",
       "stream": "stdout",
       "text": [
        "\r",
        "                                                                                                      \r",
        "[SLC] DBG:                     +0:01:46 ======[98%]======_ -0:00:02  ROI 36513 (564/577), 123 features"
       ]
      },
      {
       "output_type": "stream",
       "stream": "stdout",
       "text": [
        "\r",
        "                                                                                                      \r",
        "[SLC] DBG:                     +0:01:47 ======[98%]======_ -0:00:02  ROI 36514 (565/577), 123 features"
       ]
      },
      {
       "output_type": "stream",
       "stream": "stdout",
       "text": [
        "\r",
        "                                                                                                      \r",
        "[SLC] DBG:                     +0:01:47 ======[98%]======_ -0:00:02  ROI 36578 (566/577), 123 features"
       ]
      },
      {
       "output_type": "stream",
       "stream": "stdout",
       "text": [
        "\r",
        "                                                                                                      \r",
        "[SLC] DBG:                     +0:01:47 ======[98%]======_ -0:00:01  ROI 36609 (567/577), 123 features"
       ]
      },
      {
       "output_type": "stream",
       "stream": "stdout",
       "text": [
        "\r",
        "                                                                                                      \r",
        "[SLC] DBG:                     +0:01:47 ======[98%]======_ -0:00:01  ROI 37207 (568/577), 121 features"
       ]
      },
      {
       "output_type": "stream",
       "stream": "stdout",
       "text": [
        "\r",
        "                                                                                                      \r",
        "[SLC] DBG:                     +0:01:47 ======[99%]======_ -0:00:01  ROI 37208 (569/577), 123 features"
       ]
      },
      {
       "output_type": "stream",
       "stream": "stdout",
       "text": [
        "\r",
        "                                                                                                      \r",
        "[SLC] DBG:                     +0:01:48 ======[99%]======_ -0:00:01  ROI 37235 (570/577), 122 features"
       ]
      },
      {
       "output_type": "stream",
       "stream": "stdout",
       "text": [
        "\r",
        "                                                                                                      \r",
        "[SLC] DBG:                     +0:01:48 ======[99%]======_ -0:00:01  ROI 37236 (571/577), 123 features"
       ]
      },
      {
       "output_type": "stream",
       "stream": "stdout",
       "text": [
        "\r",
        "                                                                                                      \r",
        "[SLC] DBG:                     +0:01:48 ======[99%]======_ -0:00:00  ROI 37263 (572/577), 123 features"
       ]
      },
      {
       "output_type": "stream",
       "stream": "stdout",
       "text": [
        "\r",
        "                                                                                                      \r",
        "[SLC] DBG:                     +0:01:48 ======[99%]======_ -0:00:00  ROI 37264 (573/577), 123 features"
       ]
      },
      {
       "output_type": "stream",
       "stream": "stdout",
       "text": [
        "\r",
        "                                                                                                      \r",
        "[SLC] DBG:                     +0:01:48 ======[99%]======_ -0:00:00  ROI 37293 (574/577), 123 features"
       ]
      },
      {
       "output_type": "stream",
       "stream": "stdout",
       "text": [
        "\r",
        "                                                                                                      \r",
        "[SLC] DBG:                     +0:01:49 ======[100%]=====_ -0:00:00  ROI 37322 (575/577), 123 features"
       ]
      },
      {
       "output_type": "stream",
       "stream": "stdout",
       "text": [
        "\r",
        "                                                                                                      \r",
        "[SLC] DBG:                     +0:01:49 ======[100%]=====_ -0:00:00  ROI 37353 (576/577), 123 features"
       ]
      },
      {
       "output_type": "stream",
       "stream": "stdout",
       "text": [
        "\r",
        "                                                                                                      \r",
        "[SLC] DBG:                     +0:01:49 ======[100%]====== 0:00:00  ROI 37354 (577/577), 123 features"
       ]
      },
      {
       "output_type": "stream",
       "stream": "stdout",
       "text": [
        "\n"
       ]
      },
      {
       "output_type": "stream",
       "stream": "stdout",
       "text": [
        "\n"
       ]
      },
      {
       "output_type": "stream",
       "stream": "stdout",
       "text": [
        "[SLC] DBG:                      hstacking 577 results of shape (12, 1)\n"
       ]
      },
      {
       "output_type": "stream",
       "stream": "stdout",
       "text": [
        "[SLC] DBG:                      hstacked shape (12, 577)\n"
       ]
      }
     ],
     "prompt_number": 15
    },
    {
     "cell_type": "markdown",
     "metadata": {},
     "source": [
      "\n",
      "\n",
      "The result dataset is fully aware of the original dataspace. Using this\n",
      "information we can map the 1D accuracy maps back into \"brain-space\" (using\n",
      "NIfTI image header information from the original input timeseries."
     ]
    },
    {
     "cell_type": "code",
     "collapsed": false,
     "input": [
      "    niftiresults = map2nifti(sl_map, imghdr=dataset.a.imghdr)"
     ],
     "language": "python",
     "metadata": {},
     "outputs": [],
     "prompt_number": 16
    },
    {
     "cell_type": "markdown",
     "metadata": {},
     "source": [
      "\n",
      "\n",
      "PyMVPA comes with a convenient plotting function to visualize the\n",
      "searchlight maps. We are only looking at fMRI slices that are covered\n",
      "by the mask of ventral temproal cortex."
     ]
    },
    {
     "cell_type": "code",
     "collapsed": false,
     "input": [
      "     fig = pl.figure(figsize=(12, 4), facecolor='white')\n",
      "     subfig = plot_lightbox(overlay=niftiresults,\n",
      "                            vlim=(0.5, None), slices=range(23,31),\n",
      "                            fig=fig, **plot_args)\n",
      "     pl.title('Accuracy distribution for radius %i' % radius)"
     ],
     "language": "python",
     "metadata": {},
     "outputs": [
      {
       "metadata": {},
       "output_type": "display_data",
       "png": "[encoded data removed]",
       "text": [
        "<matplotlib.figure.Figure at 0x7f07f53c0c50>"
       ]
      },
      {
       "metadata": {},
       "output_type": "pyout",
       "prompt_number": 17,
       "text": [
        "<matplotlib.text.Text at 0x7f07f4af3350>"
       ]
      },
      {
       "metadata": {},
       "output_type": "display_data",
       "png": "[encoded data removed]",
       "text": [
        "<matplotlib.figure.Figure at 0x7f07f4c73710>"
       ]
      }
     ],
     "prompt_number": 17
    },
    {
     "cell_type": "markdown",
     "metadata": {},
     "source": [
      "\n",
      "\n",
      "The following figures show the resulting accuracy maps for the slices\n",
      "covered by the ventral temporal cortex mask. Note that each voxel value\n",
      "represents the accuracy of a sphere centered around this voxel.\n",
      "\n",
      "\\[Visit [http://pymvpa.org/examples/searchlight.html](http://pymvpa.org/examples/searchlight.html) to view this figure\\]\n",
      "\n",
      "\\[Visit [http://pymvpa.org/examples/searchlight.html](http://pymvpa.org/examples/searchlight.html) to view this figure\\]\n",
      "\n",
      "\\[Visit [http://pymvpa.org/examples/searchlight.html](http://pymvpa.org/examples/searchlight.html) to view this figure\\]\n",
      "\n",
      "With radius 0 (only the center voxel is part of the part the sphere) there is a\n",
      "clear distinction between two distributions. The *chance distribution*,\n",
      "relatively symetric and centered around the expected chance-performance at 50%.\n",
      "The second distribution, presumambly of voxels with univariate signal, is nicely\n",
      "segregated from that. Increasing the searchlight size significantly blurrs the\n",
      "accuracy map, but also lead to an increase in classification accuracy."
     ]
    }
   ],
   "metadata": {}
  }
 ]
}